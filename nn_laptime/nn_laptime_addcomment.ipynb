{
  "nbformat": 4,
  "nbformat_minor": 0,
  "metadata": {
    "colab": {
      "name": "nn_laptime_1120.ipynb",
      "version": "0.3.2",
      "provenance": [],
      "collapsed_sections": []
    },
    "kernelspec": {
      "name": "python3",
      "display_name": "Python 3"
    },
    "accelerator": "GPU"
  },
  "cells": [
    {
      "metadata": {
        "id": "wVRRuzSBICgr",
        "colab_type": "text"
      },
      "cell_type": "markdown",
      "source": [
        "Import modules"
      ]
    },
    {
      "metadata": {
        "id": "g6CgbhUrvbG5",
        "colab_type": "code",
        "colab": {}
      },
      "cell_type": "code",
      "source": [
        "import tensorflow as tf\n",
        "import random\n",
        "import pandas as pd\n",
        "import numpy as np\n",
        "from sklearn.model_selection import train_test_split"
      ],
      "execution_count": 0,
      "outputs": []
    },
    {
      "metadata": {
        "id": "Qvk8W8HhIIF-",
        "colab_type": "text"
      },
      "cell_type": "markdown",
      "source": [
        "데이터 불러오기, 결측치 제거, 변수 선택"
      ]
    },
    {
      "metadata": {
        "id": "VU4jJHIlvphP",
        "colab_type": "code",
        "colab": {
          "base_uri": "https://localhost:8080/",
          "height": 230
        },
        "outputId": "032abb86-e814-4684-dfe3-5c256ed00e82"
      },
      "cell_type": "code",
      "source": [
        "# 데이터 불러오기\n",
        "\n",
        "data = pd.read_csv(\"hyunse_df.csv\",encoding='utf-8')\n",
        "print(\"전체 데이터 개수 : \",len(data))\n",
        "\n",
        "# 결측치 제거\n",
        "\n",
        "data = data.dropna(subset=['distance','record',\n",
        "                           'code','lane','age','jockey_w','dandivi','yeondivi',\n",
        "                           'cure_in_1m','weight_diff', 'raw_weight','weight_added','jockey',\n",
        "                           'prev1_velo','prev2_velo','sex1','sex2'])\n",
        "\n",
        "print(\"결측치 제거 후 개수 : \",len(data))\n",
        "\n",
        "\n",
        "# distance별로 데이터 나누기\n",
        "\n",
        "gb_distance = data.groupby(['distance'])\n",
        "gb_distance=[gb_distance.get_group(x) for x in gb_distance.groups]\n",
        "\n",
        "# distance list\n",
        "distance_list = list(set(data['distance']))\n",
        "distance_list.sort()\n",
        "\n",
        "for i in range(len(gb_distance)):\n",
        "  print(distance_list[i] ,\"m 거리에서 데이터 개수 : \",len(gb_distance[i]))\n",
        "\n",
        "\n",
        "# 데이터 가장 많은 Dataframe 선택  \n",
        "\n",
        "data=gb_distance[3]\n",
        "\n",
        "\n",
        "# X,y 데이터 나누기\n",
        "\n",
        "y = data['record']\n",
        "X = data.loc[:, ['code','lane','age','jockey_w','dandivi','yeondivi',\n",
        "                 'cure_in_1m','weight_diff', 'raw_weight','weight_added','jockey',\n",
        "                 'prev1_velo','prev2_velo','sex1','sex2']]\n",
        "\n",
        "# \n",
        "X = X.as_matrix()\n",
        "y = y.as_matrix()\n"
      ],
      "execution_count": 113,
      "outputs": [
        {
          "output_type": "stream",
          "text": [
            "전체 데이터 개수 :  58749\n",
            "결측치 제거 후 개수 :  56577\n",
            "1000.0 m 거리에서 데이터 개수 :  6395\n",
            "1100.0 m 거리에서 데이터 개수 :  482\n",
            "1200.0 m 거리에서 데이터 개수 :  13576\n",
            "1300.0 m 거리에서 데이터 개수 :  12912\n",
            "1400.0 m 거리에서 데이터 개수 :  9928\n",
            "1700.0 m 거리에서 데이터 개수 :  5612\n",
            "1800.0 m 거리에서 데이터 개수 :  5686\n",
            "1900.0 m 거리에서 데이터 개수 :  1082\n",
            "2000.0 m 거리에서 데이터 개수 :  849\n",
            "2300.0 m 거리에서 데이터 개수 :  55\n"
          ],
          "name": "stdout"
        }
      ]
    },
    {
      "metadata": {
        "id": "Ui5OcTvJ1RlM",
        "colab_type": "code",
        "colab": {}
      },
      "cell_type": "code",
      "source": [
        "# 설정하는 부분\n",
        "\n",
        "learning_rate = 0.01\n",
        "training_epochs = 500\n",
        "batch_size = 128\n"
      ],
      "execution_count": 0,
      "outputs": []
    },
    {
      "metadata": {
        "id": "akNj9hoTw707",
        "colab_type": "code",
        "outputId": "9de9609f-548b-47bd-f8ce-45c27495915d",
        "colab": {
          "base_uri": "https://localhost:8080/",
          "height": 319
        }
      },
      "cell_type": "code",
      "source": [
        "# Train , Test Split\n",
        "\n",
        "X_train, X_test, y_train, y_test = train_test_split(X, y, test_size=0.3)\n",
        "\n",
        "# Normalize \n",
        "\n",
        "X_mean = []\n",
        "X_std = []\n",
        "\n",
        "for i in range(X_train.shape[1]):\n",
        "  X_mean.append(np.mean(X_train[:,i]))\n",
        "  X_std.append(np.std(X_train[:,i]))\n",
        "  print(i+1,\"번째 변수의 X_mean:\",'{:.3f}'.format(X_mean[i]),\", X_std:\",'{:.3f}'.format(X_std[i]))\n",
        "  X_train[:,i] = (X_train[:,i]-X_mean[i])/X_std[i]\n",
        "  X_test[:,i] = (X_test[:,i]-X_mean[i])/X_std[i]\n",
        "\n",
        "  \n",
        "train_size = len(X_train)\n",
        "print(\"train_size : \",train_size)\n",
        "\n",
        "size_x = len(X_train[0])\n",
        "print(\"size_x : \",size_x)\n",
        "\n"
      ],
      "execution_count": 118,
      "outputs": [
        {
          "output_type": "stream",
          "text": [
            "1 번째 변수의 X_mean: 32590.31544589511 , X_std: 3343.5875592698426\n",
            "2 번째 변수의 X_mean: 6.167293649037398 , X_std: 3.387999531863979\n",
            "3 번째 변수의 X_mean: 3.5299845098473113 , X_std: 0.8577371459184414\n",
            "4 번째 변수의 X_mean: 53.85837574684665 , X_std: 1.7033453460757029\n",
            "5 번째 변수의 X_mean: 38.13348085859704 , X_std: 51.66977820893637\n",
            "6 번째 변수의 X_mean: 6.36862137641071 , X_std: 7.244394564254882\n",
            "7 번째 변수의 X_mean: 0.24231024562956407 , X_std: 0.42848102699244967\n",
            "8 번째 변수의 X_mean: 0.16651914140296525 , X_std: 6.957624627818564\n",
            "9 번째 변수의 X_mean: 467.8983182119938 , X_std: 27.255492419956507\n",
            "10 번째 변수의 X_mean: 0.16651914140296525 , X_std: 6.957624627818564\n",
            "11 번째 변수의 X_mean: 80429.9752157557 , X_std: 123.22868295832517\n",
            "12 번째 변수의 X_mean: 15.518547687404984 , X_std: 0.3684910096329752\n",
            "13 번째 변수의 X_mean: 15.512970643059926 , X_std: 0.37544994262357967\n",
            "14 번째 변수의 X_mean: 0.32208453197610093 , X_std: 0.4672751718611175\n",
            "15 번째 변수의 X_mean: 0.45872980747953085 , X_std: 0.498293860296636\n",
            "train_size :  9038\n",
            "size_x :  15\n"
          ],
          "name": "stdout"
        }
      ]
    },
    {
      "metadata": {
        "id": "XYsNbpxlHpgw",
        "colab_type": "code",
        "outputId": "266b2a18-fe6f-454c-f3cc-411827745b07",
        "colab": {
          "base_uri": "https://localhost:8080/",
          "height": 35
        }
      },
      "cell_type": "code",
      "source": [
        "print(X_train.shape, X_test.shape)"
      ],
      "execution_count": 119,
      "outputs": [
        {
          "output_type": "stream",
          "text": [
            "(9038, 15) (3874, 15)\n"
          ],
          "name": "stdout"
        }
      ]
    },
    {
      "metadata": {
        "id": "PnTPAT_Ez9La",
        "colab_type": "code",
        "colab": {}
      },
      "cell_type": "code",
      "source": [
        "# Tensorflow\n",
        "\n",
        "tf.reset_default_graph()\n",
        "\n",
        "X = tf.placeholder(tf.float32, [None, size_x])\n",
        "Y = tf.placeholder(tf.float32, [None, 1])\n",
        "keep_prob = tf.placeholder(tf.float32)\n",
        "phase = tf.placeholder(tf.bool, name='phase')\n",
        "\n",
        "# First Layer\n",
        "\n",
        "W1 = tf.get_variable(shape=[size_x, 128], name='weight1', initializer=tf.contrib.layers.xavier_initializer())\n",
        "b1 = tf.Variable(tf.random_normal([128]))\n",
        "layer1 = tf.nn.relu(tf.matmul(X, W1) + b1)\n",
        "layer1 = tf.nn.dropout(layer1, keep_prob=keep_prob)\n",
        "layer1 = tf.contrib.layers.batch_norm(layer1, center=True, scale=True, \n",
        "                                          is_training=phase)\n",
        "\n",
        "# Second Layer\n",
        "\n",
        "W2 = tf.get_variable(shape=[128, 64], name='weight2', initializer=tf.contrib.layers.xavier_initializer())\n",
        "b2 = tf.Variable(tf.random_normal([64]))\n",
        "layer2 = tf.nn.relu(tf.matmul(layer1, W2) + b2)\n",
        "layer2 = tf.nn.dropout(layer2, keep_prob=keep_prob)\n",
        "layer2 = tf.contrib.layers.batch_norm(layer2, center=True, scale=True, \n",
        "                                          is_training=phase)\n",
        "# Third Layer\n",
        "\n",
        "W3 = tf.get_variable(shape=[64, 32], name='weight3', initializer=tf.contrib.layers.xavier_initializer())\n",
        "b3 = tf.Variable(tf.random_normal([32]))\n",
        "layer3 = tf.nn.relu(tf.matmul(layer2, W3) + b3)\n",
        "layer3 = tf.nn.dropout(layer3, keep_prob=keep_prob)\n",
        "layer3 = tf.contrib.layers.batch_norm(layer3, center=True, scale=True, \n",
        "                                          is_training=phase)\n",
        "# Predict\n",
        "\n",
        "W4 = tf.get_variable(shape=[32, 1], name='weight4', initializer=tf.contrib.layers.xavier_initializer())\n",
        "b4 = tf.Variable(tf.random_normal([1]))\n",
        "hypothesis = tf.matmul(layer3, W4) + b4\n",
        "hypothesis = tf.contrib.layers.batch_norm(hypothesis, center=True, scale=True, \n",
        "                                          is_training=phase)\n",
        "\n",
        "# Cost 계산\n",
        "\n",
        "cost = tf.reduce_mean(tf.square(hypothesis - Y))\n",
        "train = tf.train.AdamOptimizer(learning_rate=learning_rate).minimize(cost)\n",
        "\n"
      ],
      "execution_count": 0,
      "outputs": []
    },
    {
      "metadata": {
        "id": "mxzoge0AJVoM",
        "colab_type": "code",
        "colab": {
          "base_uri": "https://localhost:8080/",
          "height": 461
        },
        "outputId": "555e2680-8799-4289-d093-d38c1d67f529"
      },
      "cell_type": "code",
      "source": [
        "# 계산 시작\n",
        "\n",
        "sess = tf.Session()\n",
        "sess.run(tf.global_variables_initializer())\n",
        "\n",
        "for epoch in range(training_epochs):\n",
        "    avg_cost = 0\n",
        "    total_batch = int(train_size / batch_size)\n",
        "\n",
        "    for i in range(total_batch):\n",
        "        # batch_size로 X,y 개수 나눠주기\n",
        "        batch_xs = X_train[i*batch_size:(i+1)*batch_size]\n",
        "        batch_ys = y_train[i*batch_size:(i+1)*batch_size].reshape(batch_size,1)\n",
        "        \n",
        "        feed_dict = {X: batch_xs, Y: batch_ys, keep_prob:0.7,phase:True}\n",
        "        c, _ = sess.run([cost, train], feed_dict=feed_dict)\n",
        "        avg_cost += c/total_batch\n",
        "        \n",
        "    # 20 epoch마다 cost\n",
        "    \n",
        "    if epoch % 20==0:\n",
        "      print('Epoch:', '%04d' % (epoch + 1), 'cost =', '{:.9f}'.format(avg_cost))\n",
        "      \n"
      ],
      "execution_count": 121,
      "outputs": [
        {
          "output_type": "stream",
          "text": [
            "Epoch: 0001 cost = 7039.829303850\n",
            "Epoch: 0021 cost = 4960.786725725\n",
            "Epoch: 0041 cost = 3339.680991908\n",
            "Epoch: 0061 cost = 2094.030064174\n",
            "Epoch: 0081 cost = 1180.608921596\n",
            "Epoch: 0101 cost = 565.134487915\n",
            "Epoch: 0121 cost = 210.198478263\n",
            "Epoch: 0141 cost = 56.332824217\n",
            "Epoch: 0161 cost = 22.727941261\n",
            "Epoch: 0181 cost = 18.942418596\n",
            "Epoch: 0201 cost = 19.351690456\n",
            "Epoch: 0221 cost = 20.107229246\n",
            "Epoch: 0241 cost = 20.291400705\n",
            "Epoch: 0261 cost = 19.787217127\n",
            "Epoch: 0281 cost = 20.009228631\n",
            "Epoch: 0301 cost = 19.424526814\n",
            "Epoch: 0321 cost = 19.109680802\n",
            "Epoch: 0341 cost = 18.650255864\n",
            "Epoch: 0361 cost = 18.761173657\n",
            "Epoch: 0381 cost = 18.001524033\n",
            "Epoch: 0401 cost = 18.920152255\n",
            "Epoch: 0421 cost = 18.770695571\n",
            "Epoch: 0441 cost = 18.232621329\n",
            "Epoch: 0461 cost = 18.679840108\n",
            "Epoch: 0481 cost = 18.821387843\n"
          ],
          "name": "stdout"
        }
      ]
    },
    {
      "metadata": {
        "id": "JWl5bvELnwB9",
        "colab_type": "code",
        "outputId": "c1f4f00d-8dc4-4ffb-d1c8-b111665dfc58",
        "colab": {
          "base_uri": "https://localhost:8080/",
          "height": 35
        }
      },
      "cell_type": "code",
      "source": [
        "# Test set 계산\n",
        "\n",
        "y_test = y_test.reshape(-1,1)\n",
        "mse = tf.reduce_mean(tf.square(hypothesis - Y))**0.5\n",
        "print('Cost of test set:', sess.run(mse, feed_dict={\n",
        "      X: X_test, Y: y_test, keep_prob:1, phase:False}))"
      ],
      "execution_count": 122,
      "outputs": [
        {
          "output_type": "stream",
          "text": [
            "Cost of test set: 30016.006\n"
          ],
          "name": "stdout"
        }
      ]
    },
    {
      "metadata": {
        "id": "JbhBOdqg2JUX",
        "colab_type": "code",
        "colab": {}
      },
      "cell_type": "code",
      "source": [
        ""
      ],
      "execution_count": 0,
      "outputs": []
    }
  ]
}