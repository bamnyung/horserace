{
  "nbformat": 4,
  "nbformat_minor": 0,
  "metadata": {
    "colab": {
      "name": "nn_laptime_1120.ipynb",
      "version": "0.3.2",
      "provenance": [],
      "collapsed_sections": []
    },
    "kernelspec": {
      "name": "python3",
      "display_name": "Python 3"
    },
    "accelerator": "GPU"
  },
  "cells": [
    {
      "metadata": {
        "id": "g6CgbhUrvbG5",
        "colab_type": "code",
        "colab": {}
      },
      "cell_type": "code",
      "source": [
        "import tensorflow as tf\n",
        "import random\n",
        "import pandas as pd\n",
        "import numpy as np\n",
        "from sklearn.model_selection import train_test_split"
      ],
      "execution_count": 0,
      "outputs": []
    },
    {
      "metadata": {
        "id": "VU4jJHIlvphP",
        "colab_type": "code",
        "colab": {}
      },
      "cell_type": "code",
      "source": [
        "data = pd.read_csv(\"clogit_df.csv\",encoding='utf-8')\n",
        "\n",
        "#data = data.dropna() # 이거로 하면 cost 5자리수 나옴\n",
        "d2 = data\n",
        "d3=d2.groupby(['distance'])\n",
        "d3=[d3.get_group(x) for x in d3.groups]\n",
        "data=d3[0]\n",
        "\n",
        "y = data['record']\n",
        "X = data.loc[:, ['lane','age','jockey_w','dandivi','yeondivi',\n",
        "                 'cure_in_1m','weight_diff', 'raw_weight','weight_added',\n",
        "                 'prev1_velo','prev2_velo','sex1','sex2']]\n",
        "#prev3은 도움안됨\n",
        "'''\n",
        "# sex는 dummy 함수 처리\n",
        "sex_mod = pd.get_dummies(X['sex'])\n",
        "X = X.join(sex_mod)\n",
        "X = X.drop(columns=['sex'])\n",
        "#print(X.columns)\n",
        "'''\n",
        "X = X.as_matrix()"
      ],
      "execution_count": 0,
      "outputs": []
    },
    {
      "metadata": {
        "id": "Ui5OcTvJ1RlM",
        "colab_type": "code",
        "outputId": "70956eb1-7ec8-421f-f83c-695878b6593d",
        "colab": {
          "base_uri": "https://localhost:8080/",
          "height": 238
        }
      },
      "cell_type": "code",
      "source": [
        "\n",
        "X"
      ],
      "execution_count": 7,
      "outputs": [
        {
          "output_type": "execute_result",
          "data": {
            "text/plain": [
              "array([[3.4628e+04, 3.0000e+00, 6.0000e+00, ..., 0.0000e+00, 0.0000e+00,\n",
              "        0.0000e+00],\n",
              "       [3.9973e+04, 1.1000e+01, 3.0000e+00, ..., 0.0000e+00, 0.0000e+00,\n",
              "        1.0000e+00],\n",
              "       [3.9806e+04, 6.0000e+00, 3.0000e+00, ..., 0.0000e+00, 0.0000e+00,\n",
              "        0.0000e+00],\n",
              "       ...,\n",
              "       [3.0853e+04, 5.0000e+00, 4.0000e+00, ..., 0.0000e+00, 1.0000e+00,\n",
              "        0.0000e+00],\n",
              "       [2.9616e+04, 9.0000e+00, 4.0000e+00, ..., 0.0000e+00, 0.0000e+00,\n",
              "        0.0000e+00],\n",
              "       [2.9820e+04, 7.0000e+00, 4.0000e+00, ..., 0.0000e+00, 1.0000e+00,\n",
              "        0.0000e+00]])"
            ]
          },
          "metadata": {
            "tags": []
          },
          "execution_count": 7
        }
      ]
    },
    {
      "metadata": {
        "id": "akNj9hoTw707",
        "colab_type": "code",
        "outputId": "1bf7e29b-c83c-4638-efce-d50b915c7a65",
        "colab": {
          "base_uri": "https://localhost:8080/",
          "height": 272
        }
      },
      "cell_type": "code",
      "source": [
        "X_train, X_test, y_train, y_test = train_test_split(X, y, test_size=0.3)\n",
        "X_mean = []\n",
        "X_std = []\n",
        "\n",
        "for i in range(X_train.shape[1]):\n",
        "  X_mean.append(np.mean(X_train[:,i]))\n",
        "  X_std.append(np.std(X_train[:,i]))\n",
        "  print(\"X_mean:\",X_mean[i],\"X_std:\",X_std[i])\n",
        "  X_train[:,i] = (X_train[:,i]-X_mean[i])/X_std[i]\n",
        "  X_test[:,i] = (X_test[:,i]-X_mean[i])/X_std[i]\n",
        "  \n",
        "train_size = len(X_train)\n",
        "print(\"train_size : \",train_size)\n",
        "\n",
        "size_x = len(X_train[0])\n",
        "print(\"size_x : \",size_x)\n",
        "\n",
        "# 설정하는 부분\n",
        "learning_rate = 0.01\n",
        "training_epochs = 500\n",
        "batch_size = 128\n"
      ],
      "execution_count": 84,
      "outputs": [
        {
          "output_type": "stream",
          "text": [
            "X_mean: 6.019415309082794 X_std: 3.2803034511394893\n",
            "X_mean: 3.299709886186119 X_std: 0.8141914694388229\n",
            "X_mean: 53.58390984155322 X_std: 1.6268055493436016\n",
            "X_mean: 40.345726400357066 X_std: 57.704866115925995\n",
            "X_mean: 6.310220932827494 X_std: 7.424858154048369\n",
            "X_mean: 0.25619281410399464 X_std: 0.4365295592574123\n",
            "X_mean: 0.12229413077438071 X_std: 7.476497174574059\n",
            "X_mean: 465.9221155991966 X_std: 26.89509411690668\n",
            "X_mean: 0.12229413077438071 X_std: 7.476497174574059\n",
            "X_mean: 15.677243981728417 X_std: 0.4095224128389913\n",
            "X_mean: 15.646033815443664 X_std: 0.39994614017069147\n",
            "X_mean: 0.27828609685338096 X_std: 0.44815504588422483\n",
            "X_mean: 0.5501004240124973 X_std: 0.49748361532191987\n",
            "train_size :  4481\n",
            "size_x :  13\n"
          ],
          "name": "stdout"
        }
      ]
    },
    {
      "metadata": {
        "id": "XYsNbpxlHpgw",
        "colab_type": "code",
        "colab": {
          "base_uri": "https://localhost:8080/",
          "height": 34
        },
        "outputId": "04a1ab17-6d07-43f7-c0e5-f8d851f5d951"
      },
      "cell_type": "code",
      "source": [
        "print(X_train.shape, X_test.shape)"
      ],
      "execution_count": 85,
      "outputs": [
        {
          "output_type": "stream",
          "text": [
            "(4481, 13) (1921, 13)\n"
          ],
          "name": "stdout"
        }
      ]
    },
    {
      "metadata": {
        "id": "PnTPAT_Ez9La",
        "colab_type": "code",
        "outputId": "791614dc-3aea-44d8-fffb-5ad211e2a35e",
        "colab": {
          "base_uri": "https://localhost:8080/",
          "height": 904
        }
      },
      "cell_type": "code",
      "source": [
        "tf.reset_default_graph()\n",
        "\n",
        "X = tf.placeholder(tf.float32, [None, size_x])\n",
        "Y = tf.placeholder(tf.float32, [None, 1])\n",
        "keep_prob = tf.placeholder(tf.float32)\n",
        "phase = tf.placeholder(tf.bool, name='phase')\n",
        "\n",
        "\n",
        "W1 = tf.get_variable(shape=[size_x, 128], name='weight1', initializer=tf.contrib.layers.xavier_initializer())\n",
        "b1 = tf.Variable(tf.random_normal([128]))\n",
        "layer1 = tf.nn.relu(tf.matmul(X, W1) + b1)\n",
        "layer1 = tf.nn.dropout(layer1, keep_prob=keep_prob)\n",
        "layer1 = tf.contrib.layers.batch_norm(layer1, center=True, scale=True, \n",
        "                                          is_training=phase)\n",
        "\n",
        "W2 = tf.get_variable(shape=[128, 64], name='weight2', initializer=tf.contrib.layers.xavier_initializer())\n",
        "b2 = tf.Variable(tf.random_normal([64]))\n",
        "layer2 = tf.nn.relu(tf.matmul(layer1, W2) + b2)\n",
        "layer2 = tf.nn.dropout(layer2, keep_prob=keep_prob)\n",
        "layer2 = tf.contrib.layers.batch_norm(layer2, center=True, scale=True, \n",
        "                                          is_training=phase)\n",
        "\n",
        "W3 = tf.get_variable(shape=[64, 32], name='weight3', initializer=tf.contrib.layers.xavier_initializer())\n",
        "b3 = tf.Variable(tf.random_normal([32]))\n",
        "layer3 = tf.nn.relu(tf.matmul(layer2, W3) + b3)\n",
        "layer3 = tf.nn.dropout(layer3, keep_prob=keep_prob)\n",
        "layer3 = tf.contrib.layers.batch_norm(layer3, center=True, scale=True, \n",
        "                                          is_training=phase)\n",
        "\n",
        "W4 = tf.get_variable(shape=[32, 1], name='weight4', initializer=tf.contrib.layers.xavier_initializer())\n",
        "b4 = tf.Variable(tf.random_normal([1]))\n",
        "hypothesis = tf.matmul(layer3, W4) + b4\n",
        "hypothesis = tf.contrib.layers.batch_norm(hypothesis, center=True, scale=True, \n",
        "                                          is_training=phase)\n",
        "\n",
        "\n",
        "cost = tf.reduce_mean(tf.square(hypothesis - Y))\n",
        "#cost = tf.losses.mean_squared_error(labels=Y, predictions=hypothesis)\n",
        "train = tf.train.AdamOptimizer(learning_rate=learning_rate).minimize(cost)\n",
        "\n",
        "sess = tf.Session()\n",
        "sess.run(tf.global_variables_initializer())\n",
        "\n",
        "for epoch in range(training_epochs):\n",
        "    avg_cost = 0\n",
        "    total_batch = int(train_size / batch_size)\n",
        "\n",
        "    for i in range(total_batch):\n",
        "        batch_xs = X_train[i*batch_size:(i+1)*batch_size]\n",
        "        batch_ys = y_train[i*batch_size:(i+1)*batch_size].reshape(batch_size,1)\n",
        "        feed_dict = {X: batch_xs, Y: batch_ys, keep_prob:0.7,phase:True}\n",
        "        c, _ = sess.run([cost, train], feed_dict=feed_dict)\n",
        "        avg_cost += c/total_batch\n",
        "        \n",
        "    if epoch%10==0:\n",
        "      print('Epoch:', '%04d' % (epoch + 1), 'cost =', '{:.9f}'.format(avg_cost))\n",
        "      \n"
      ],
      "execution_count": 86,
      "outputs": [
        {
          "output_type": "stream",
          "text": [
            "/usr/local/lib/python3.6/dist-packages/ipykernel_launcher.py:50: FutureWarning: reshape is deprecated and will raise in a subsequent release. Please use .values.reshape(...) instead\n"
          ],
          "name": "stderr"
        },
        {
          "output_type": "stream",
          "text": [
            "Epoch: 0001 cost = 4109.131759208\n",
            "Epoch: 0011 cost = 3677.853683036\n",
            "Epoch: 0021 cost = 3281.173604911\n",
            "Epoch: 0031 cost = 2915.976688058\n",
            "Epoch: 0041 cost = 2580.950467355\n",
            "Epoch: 0051 cost = 2271.782617187\n",
            "Epoch: 0061 cost = 1989.968840681\n",
            "Epoch: 0071 cost = 1729.892613002\n",
            "Epoch: 0081 cost = 1493.839899554\n",
            "Epoch: 0091 cost = 1279.891434152\n",
            "Epoch: 0101 cost = 1085.790229143\n",
            "Epoch: 0111 cost = 911.871135603\n",
            "Epoch: 0121 cost = 757.511359515\n",
            "Epoch: 0131 cost = 619.878534807\n",
            "Epoch: 0141 cost = 500.525866699\n",
            "Epoch: 0151 cost = 396.459831020\n",
            "Epoch: 0161 cost = 309.722047642\n",
            "Epoch: 0171 cost = 236.284427316\n",
            "Epoch: 0181 cost = 177.176508440\n",
            "Epoch: 0191 cost = 129.376532636\n",
            "Epoch: 0201 cost = 91.053934261\n",
            "Epoch: 0211 cost = 65.698841967\n",
            "Epoch: 0221 cost = 45.666874204\n",
            "Epoch: 0231 cost = 34.087409183\n",
            "Epoch: 0241 cost = 27.662443433\n",
            "Epoch: 0251 cost = 22.826717022\n",
            "Epoch: 0261 cost = 20.663586085\n",
            "Epoch: 0271 cost = 19.998617881\n",
            "Epoch: 0281 cost = 19.970437023\n",
            "Epoch: 0291 cost = 19.246843147\n",
            "Epoch: 0301 cost = 20.054274913\n",
            "Epoch: 0311 cost = 18.131634658\n",
            "Epoch: 0321 cost = 19.444669206\n",
            "Epoch: 0331 cost = 18.028852980\n",
            "Epoch: 0341 cost = 18.872005980\n",
            "Epoch: 0351 cost = 19.904819652\n",
            "Epoch: 0361 cost = 19.968276433\n",
            "Epoch: 0371 cost = 18.404606383\n",
            "Epoch: 0381 cost = 19.887115015\n",
            "Epoch: 0391 cost = 19.172053364\n",
            "Epoch: 0401 cost = 19.147640978\n",
            "Epoch: 0411 cost = 20.642421041\n",
            "Epoch: 0421 cost = 18.394158391\n",
            "Epoch: 0431 cost = 18.818329729\n",
            "Epoch: 0441 cost = 17.477744470\n",
            "Epoch: 0451 cost = 18.437208789\n",
            "Epoch: 0461 cost = 17.938485909\n",
            "Epoch: 0471 cost = 18.206754875\n",
            "Epoch: 0481 cost = 18.281346307\n",
            "Epoch: 0491 cost = 18.452158942\n"
          ],
          "name": "stdout"
        }
      ]
    },
    {
      "metadata": {
        "id": "JWl5bvELnwB9",
        "colab_type": "code",
        "colab": {
          "base_uri": "https://localhost:8080/",
          "height": 34
        },
        "outputId": "0cedf8ee-014a-4607-fc94-78b5163e4af0"
      },
      "cell_type": "code",
      "source": [
        "\n",
        "y_test = y_test.reshape(-1,1)\n",
        "mse = tf.reduce_mean(tf.square(hypothesis - Y))\n",
        "print('Accuracy:', sess.run(mse, feed_dict={\n",
        "      X: X_test, Y: y_test, keep_prob:1, phase:False}))"
      ],
      "execution_count": 67,
      "outputs": [
        {
          "output_type": "stream",
          "text": [
            "Accuracy: 46511040000000.0\n"
          ],
          "name": "stdout"
        }
      ]
    }
  ]
}