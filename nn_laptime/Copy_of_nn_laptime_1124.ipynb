{
  "nbformat": 4,
  "nbformat_minor": 0,
  "metadata": {
    "colab": {
      "name": "Copy of nn_laptime_1124.ipynb",
      "version": "0.3.2",
      "provenance": []
    },
    "kernelspec": {
      "name": "python3",
      "display_name": "Python 3"
    },
    "accelerator": "GPU"
  },
  "cells": [
    {
      "metadata": {
        "id": "g6CgbhUrvbG5",
        "colab_type": "code",
        "colab": {}
      },
      "cell_type": "code",
      "source": [
        "import tensorflow as tf\n",
        "import random\n",
        "import pandas as pd\n",
        "import numpy as np\n",
        "from sklearn.model_selection import train_test_split"
      ],
      "execution_count": 0,
      "outputs": []
    },
    {
      "metadata": {
        "id": "kVAY6yBC5oND",
        "colab_type": "code",
        "colab": {
          "base_uri": "https://localhost:8080/",
          "height": 170
        },
        "outputId": "6943b427-ad71-42fd-f5b7-225fa0d11c0d"
      },
      "cell_type": "code",
      "source": [
        "data = pd.read_csv(\"clogit_df.csv\",encoding='utf-8')\n",
        "print(data.columns)\n",
        "#data = data[0:27939]"
      ],
      "execution_count": 69,
      "outputs": [
        {
          "output_type": "stream",
          "text": [
            "Index(['url', 'date', 'round', 'name', 'code', 'rank', 'lane', 'sex', 'age',\n",
            "       'jockey_w', 'rating', 'jockey', 'difference', 'weight', 'dandivi',\n",
            "       'yeondivi', 's1fr', 'c1r', 'c2r', 'c3r', 'c4r', 'g1fr', 's1f', 'c1',\n",
            "       'c2', 'c3', 'c4', 'g3f', 'g1f', 'record', 'cure_in_1m', 'weight_diff',\n",
            "       'raw_weight', 'weight_added', 'distance', 'velocity', 'prev1_rank',\n",
            "       'prev2_rank', 'prev3_rank', 'prev1_velo', 'prev2_velo', 'prev3_velo',\n",
            "       'horse_level_num', 'groupid', 'avg_vel', 'adj_vel', 'prev_rank',\n",
            "       'norating', 'choice', 'choice2', 'choice3', 'sex1', 'sex2'],\n",
            "      dtype='object')\n"
          ],
          "name": "stdout"
        }
      ]
    },
    {
      "metadata": {
        "id": "VU4jJHIlvphP",
        "colab_type": "code",
        "colab": {
          "base_uri": "https://localhost:8080/",
          "height": 102
        },
        "outputId": "5eabe8e7-f030-45da-9e13-a6a096b30e5d"
      },
      "cell_type": "code",
      "source": [
        "\n",
        "#data = data.dropna() # 이거로 하면 cost 5자리수 나옴\n",
        "'''\n",
        "d2 = data\n",
        "d3=d2.groupby(['distance'])\n",
        "d3=[d3.get_group(x) for x in d3.groups]\n",
        "data=d3[0]\n",
        "'''\n",
        "\n",
        "y = data['record']\n",
        "X = data.loc[:, ['date','code','lane','age','jockey_w','dandivi','yeondivi',\n",
        "                 'cure_in_1m','weight_diff', 'raw_weight','weight_added',\n",
        "                 'prev1_velo','prev2_velo','sex1','sex2','distance']]\n",
        "year=[]\n",
        "month=[]\n",
        "for i in range(X.shape[0]):\n",
        "  word =X['date'][i].split(\"-\")\n",
        "  year.append(int(word[0])-2010)\n",
        "  month.append(int(word[1]))\n",
        "  \n",
        "X['year'] = year\n",
        "X['month'] = month\n",
        "#print(X['year'],X['month'])\n",
        "X=X.drop(['date'],axis=1)\n",
        "\n",
        "#prev3은 도움안됨\n",
        "'''\n",
        "# sex는 dummy 함수 처리\n",
        "sex_mod = pd.get_dummies(X['sex'])\n",
        "X = X.join(sex_mod)\n",
        "X = X.drop(columns=['sex'])\n",
        "#print(X.columns)\n",
        "'''\n",
        "print(X.columns)\n",
        "X = X.as_matrix()\n",
        "print(X.shape)"
      ],
      "execution_count": 83,
      "outputs": [
        {
          "output_type": "stream",
          "text": [
            "Index(['code', 'lane', 'age', 'jockey_w', 'dandivi', 'yeondivi', 'cure_in_1m',\n",
            "       'weight_diff', 'raw_weight', 'weight_added', 'prev1_velo', 'prev2_velo',\n",
            "       'sex1', 'sex2', 'distance', 'year', 'month'],\n",
            "      dtype='object')\n",
            "(56576, 17)\n"
          ],
          "name": "stdout"
        }
      ]
    },
    {
      "metadata": {
        "id": "akNj9hoTw707",
        "colab_type": "code",
        "outputId": "903fcde1-75a1-4247-fff2-1452c16e57e9",
        "colab": {
          "base_uri": "https://localhost:8080/",
          "height": 306
        }
      },
      "cell_type": "code",
      "source": [
        "X_train, X_test, y_train, y_test = train_test_split(X, y, test_size=0.3)\n",
        "X_mean = []\n",
        "X_std = []\n",
        "\n",
        "#code, jokey_w, dandivi, yeondivi, weight_diff, raw_weight, weight_added, prev1_velo, prev2_velo, distance, \n",
        "#3, 4,5,7,8,9,10,11,14\n",
        "for i in range(X_train.shape[1]-2):\n",
        "  X_mean.append(np.mean(X_train[:,i]))\n",
        "  X_std.append(np.std(X_train[:,i]))\n",
        "  print(i+1,\"번째 변수의 X_mean:\",'{:.3f}'.format(X_mean[i]),\", X_std:\",'{:.3f}'.format(X_std[i]))\n",
        "  X_train[:,i] = (X_train[:,i]-X_mean[i])/X_std[i]\n",
        "  X_test[:,i] = (X_test[:,i]-X_mean[i])/X_std[i]\n",
        "\n",
        "train_size = len(X_train)\n",
        "test_size = len(X_test)\n",
        "size_x = len(X_train[0])\n",
        "print(\"size_x : \",size_x)\n",
        "print(\"train.shape: \",X_train.shape,\"test.shape: \", X_test.shape)\n",
        "\n",
        "# 설정하는 부분\n",
        "training_epochs = 200\n",
        "batch_size = 128"
      ],
      "execution_count": 84,
      "outputs": [
        {
          "output_type": "stream",
          "text": [
            "1 번째 변수의 X_mean: 32018.413 , X_std: 3566.007\n",
            "2 번째 변수의 X_mean: 6.263 , X_std: 3.462\n",
            "3 번째 변수의 X_mean: 3.782 , X_std: 1.058\n",
            "4 번째 변수의 X_mean: 53.739 , X_std: 1.905\n",
            "5 번째 변수의 X_mean: 39.975 , X_std: 55.572\n",
            "6 번째 변수의 X_mean: 6.558 , X_std: 7.561\n",
            "7 번째 변수의 X_mean: 0.218 , X_std: 0.413\n",
            "8 번째 변수의 X_mean: 0.102 , X_std: 6.995\n",
            "9 번째 변수의 X_mean: 471.736 , X_std: 27.113\n",
            "10 번째 변수의 X_mean: 0.102 , X_std: 6.995\n",
            "11 번째 변수의 X_mean: 15.509 , X_std: 0.439\n",
            "12 번째 변수의 X_mean: 15.513 , X_std: 0.435\n",
            "13 번째 변수의 X_mean: 0.349 , X_std: 0.477\n",
            "14 번째 변수의 X_mean: 0.409 , X_std: 0.492\n",
            "15 번째 변수의 X_mean: 1371.757 , X_std: 256.383\n",
            "size_x :  17\n",
            "train.shape:  (39603, 17) test.shape:  (16973, 17)\n"
          ],
          "name": "stdout"
        }
      ]
    },
    {
      "metadata": {
        "id": "PnTPAT_Ez9La",
        "colab_type": "code",
        "outputId": "8d1bc9d1-1c20-49e0-cbd0-c410d02c8278",
        "colab": {
          "base_uri": "https://localhost:8080/",
          "height": 394
        }
      },
      "cell_type": "code",
      "source": [
        "tf.reset_default_graph()\n",
        "\n",
        "global_step = tf.Variable(0, trainable=False)\n",
        "#learning_rate = tf.train.exponential_decay(0.01, global_step,\n",
        "#                                           100000, 0.5, staircase=True)\n",
        "learning_rate = 0.01\n",
        "X = tf.placeholder(tf.float32, [None, size_x])\n",
        "Y = tf.placeholder(tf.float32, [None, 1])\n",
        "keep_prob = tf.placeholder(tf.float32)\n",
        "phase = tf.placeholder(tf.bool, name='phase')\n",
        "\n",
        "\n",
        "W1 = tf.get_variable(shape=[size_x, 128], name='weight1', initializer=tf.contrib.layers.xavier_initializer())\n",
        "b1 = tf.Variable(tf.random_normal([128]))\n",
        "layer1 = tf.nn.relu(tf.matmul(X, W1) + b1)\n",
        "layer1 = tf.nn.dropout(layer1, keep_prob=keep_prob)\n",
        "layer1 = tf.contrib.layers.batch_norm(layer1, center=True, scale=True, \n",
        "                                          is_training=phase)\n",
        "\n",
        "W2 = tf.get_variable(shape=[128, 64], name='weight2', initializer=tf.contrib.layers.xavier_initializer())\n",
        "b2 = tf.Variable(tf.random_normal([64]))\n",
        "layer2 = tf.nn.relu(tf.matmul(layer1, W2) + b2)\n",
        "layer2 = tf.nn.dropout(layer2, keep_prob=keep_prob)\n",
        "layer2 = tf.contrib.layers.batch_norm(layer2, center=True, scale=True, \n",
        "                                          is_training=phase)\n",
        "\n",
        "W3 = tf.get_variable(shape=[64, 32], name='weight3', initializer=tf.contrib.layers.xavier_initializer())\n",
        "b3 = tf.Variable(tf.random_normal([32]))\n",
        "layer3 = tf.nn.relu(tf.matmul(layer2, W3) + b3)\n",
        "layer3 = tf.nn.dropout(layer3, keep_prob=keep_prob)\n",
        "layer3 = tf.contrib.layers.batch_norm(layer3, center=True, scale=True, \n",
        "                                          is_training=phase)\n",
        "\n",
        "W4 = tf.get_variable(shape=[32, 1], name='weight4', initializer=tf.contrib.layers.xavier_initializer())\n",
        "b4 = tf.Variable(tf.random_normal([1]))\n",
        "hypothesis = tf.nn.relu(tf.matmul(layer3, W4) + b4)\n",
        "#hypothesis = tf.contrib.layers.batch_norm(hypothesis, center=True, scale=True, \n",
        "#                                        is_training=phase)\n",
        "\n",
        "\n",
        "#cost = tf.reduce_mean(tf.square(hypothesis - Y))\n",
        "cost = tf.losses.mean_squared_error(labels=Y, predictions=hypothesis)\n",
        "#train = tf.train.AdamOptimizer(learning_rate=learning_rate).minimize(cost,global_step=global_step)\n",
        "train = tf.train.AdamOptimizer(learning_rate=learning_rate).minimize(cost)\n",
        "\n",
        "sess = tf.Session()\n",
        "sess.run(tf.global_variables_initializer())\n",
        "\n",
        "for epoch in range(training_epochs):\n",
        "    avg_cost = 0\n",
        "    total_batch = int(train_size / batch_size)\n",
        "\n",
        "    for i in range(total_batch):\n",
        "        batch_xs = X_train[i*batch_size:(i+1)*batch_size]\n",
        "        batch_ys = y_train[i*batch_size:(i+1)*batch_size].reshape(batch_size,1)\n",
        "        feed_dict = {X: batch_xs, Y: batch_ys, keep_prob:0.7,phase:True}\n",
        "        c, _,hyp= sess.run([cost, train,hypothesis], feed_dict=feed_dict)\n",
        "        avg_cost += c/total_batch\n",
        "        \n",
        "    if epoch%10==0:\n",
        "      #print(hyp);\n",
        "      print('Epoch:', '%04d' % (epoch + 1), 'lr:', lr,' cost =', '{:.9f}'.format(avg_cost))\n",
        "      #print(hyp)\n"
      ],
      "execution_count": 85,
      "outputs": [
        {
          "output_type": "stream",
          "text": [
            "/usr/local/lib/python3.6/dist-packages/ipykernel_launcher.py:55: FutureWarning: reshape is deprecated and will raise in a subsequent release. Please use .values.reshape(...) instead\n"
          ],
          "name": "stderr"
        },
        {
          "output_type": "stream",
          "text": [
            "Epoch: 0001 lr: 0.01  cost = 1695.080446274\n",
            "Epoch: 0011 lr: 0.01  cost = 69.758544212\n",
            "Epoch: 0021 lr: 0.01  cost = 67.971862867\n",
            "Epoch: 0031 lr: 0.01  cost = 63.248572174\n",
            "Epoch: 0041 lr: 0.01  cost = 61.597216529\n",
            "Epoch: 0051 lr: 0.01  cost = 61.180075655\n",
            "Epoch: 0061 lr: 0.01  cost = 59.872639295\n",
            "Epoch: 0071 lr: 0.01  cost = 60.019930441\n",
            "Epoch: 0081 lr: 0.01  cost = 59.761217994\n",
            "Epoch: 0091 lr: 0.01  cost = 59.837861632\n",
            "Epoch: 0101 lr: 0.01  cost = 59.445219095\n",
            "Epoch: 0111 lr: 0.01  cost = 59.175211379\n",
            "Epoch: 0121 lr: 0.01  cost = 59.782808415\n",
            "Epoch: 0131 lr: 0.01  cost = 58.459611325\n",
            "Epoch: 0141 lr: 0.01  cost = 59.513608223\n",
            "Epoch: 0151 lr: 0.01  cost = 58.904487091\n",
            "Epoch: 0161 lr: 0.01  cost = 59.095380005\n",
            "Epoch: 0171 lr: 0.01  cost = 59.210299736\n",
            "Epoch: 0181 lr: 0.01  cost = 58.136632259\n",
            "Epoch: 0191 lr: 0.01  cost = 58.282392847\n"
          ],
          "name": "stdout"
        }
      ]
    },
    {
      "metadata": {
        "id": "Db0PtTf0qwQU",
        "colab_type": "code",
        "colab": {}
      },
      "cell_type": "code",
      "source": [
        ""
      ],
      "execution_count": 0,
      "outputs": []
    },
    {
      "metadata": {
        "id": "JWl5bvELnwB9",
        "colab_type": "code",
        "outputId": "c15323fa-8454-4606-d49b-5aa4236f9cfd",
        "colab": {
          "base_uri": "https://localhost:8080/",
          "height": 207
        }
      },
      "cell_type": "code",
      "source": [
        "\n",
        "y_test = y_test.reshape(-1,1)\n",
        "'''\n",
        "avg_cost = 0\n",
        "total_batch = int(test_size / batch_size)\n",
        "\n",
        "for i in range(total_batch):\n",
        "    batch_xs = X_test[i*batch_size:(i+1)*batch_size]\n",
        "    batch_ys = y_test[i*batch_size:(i+1)*batch_size].reshape(batch_size,1)\n",
        "    feed_dict = {X: batch_xs, Y: batch_ys, keep_prob:1.0,phase:False}\n",
        "    c= sess.run(cost, feed_dict=feed_dict)\n",
        "    avg_cost += c/total_batch\n",
        "\n",
        "print(avg_cost)\n",
        "'''\n",
        "feed_dict = {X: X_test, Y: y_test, keep_prob:1.0, phase:False}\n",
        "c, hyp = sess.run([cost,hypothesis], feed_dict=feed_dict)\n",
        "print(c)\n",
        "print(hyp)"
      ],
      "execution_count": 86,
      "outputs": [
        {
          "output_type": "stream",
          "text": [
            "404821870000.0\n",
            "[[  3247.584]\n",
            " [     0.   ]\n",
            " [     0.   ]\n",
            " ...\n",
            " [     0.   ]\n",
            " [768750.4  ]\n",
            " [     0.   ]]\n"
          ],
          "name": "stdout"
        },
        {
          "output_type": "stream",
          "text": [
            "/usr/local/lib/python3.6/dist-packages/ipykernel_launcher.py:2: FutureWarning: reshape is deprecated and will raise in a subsequent release. Please use .values.reshape(...) instead\n",
            "  \n"
          ],
          "name": "stderr"
        }
      ]
    }
  ]
}