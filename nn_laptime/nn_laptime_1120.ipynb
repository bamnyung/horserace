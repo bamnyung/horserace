{
  "nbformat": 4,
  "nbformat_minor": 0,
  "metadata": {
    "colab": {
      "name": "nn_laptime_1120.ipynb",
      "version": "0.3.2",
      "provenance": []
    },
    "kernelspec": {
      "name": "python3",
      "display_name": "Python 3"
    },
    "accelerator": "GPU"
  },
  "cells": [
    {
      "metadata": {
        "id": "g6CgbhUrvbG5",
        "colab_type": "code",
        "colab": {}
      },
      "cell_type": "code",
      "source": [
        "import tensorflow as tf\n",
        "import random\n",
        "import pandas as pd\n",
        "import numpy as np\n",
        "from sklearn.model_selection import train_test_split"
      ],
      "execution_count": 0,
      "outputs": []
    },
    {
      "metadata": {
        "id": "VU4jJHIlvphP",
        "colab_type": "code",
        "colab": {}
      },
      "cell_type": "code",
      "source": [
        "data = pd.read_csv(\"clogit_df.csv\",encoding='utf-8')\n",
        "data = data.dropna()\n",
        "#data = data.dropna() # 이거로 하면 cost 5자리수 나옴\n",
        "\n",
        "y = data['record']\n",
        "X = data.loc[:, ['code','lane','age','jockey_w','jockey','dandivi','yeondivi',\n",
        "                 'cure_in_1m','weight_diff', 'raw_weight','weight_added','distance',\n",
        "                 'prev1_velo','prev2_velo','avg_vel','adj_vel','norating', 'sex1', 'sex2']]\n",
        "#prev3은 도움안됨\n",
        "'''\n",
        "# sex는 dummy 함수 처리\n",
        "sex_mod = pd.get_dummies(X['sex'])\n",
        "X = X.join(sex_mod)\n",
        "X = X.drop(columns=['sex'])\n",
        "#print(X.columns)\n",
        "'''\n",
        "X = X.as_matrix()"
      ],
      "execution_count": 0,
      "outputs": []
    },
    {
      "metadata": {
        "id": "Ui5OcTvJ1RlM",
        "colab_type": "code",
        "outputId": "70956eb1-7ec8-421f-f83c-695878b6593d",
        "colab": {
          "base_uri": "https://localhost:8080/",
          "height": 238
        }
      },
      "cell_type": "code",
      "source": [
        "\n",
        "X"
      ],
      "execution_count": 7,
      "outputs": [
        {
          "output_type": "execute_result",
          "data": {
            "text/plain": [
              "array([[3.4628e+04, 3.0000e+00, 6.0000e+00, ..., 0.0000e+00, 0.0000e+00,\n",
              "        0.0000e+00],\n",
              "       [3.9973e+04, 1.1000e+01, 3.0000e+00, ..., 0.0000e+00, 0.0000e+00,\n",
              "        1.0000e+00],\n",
              "       [3.9806e+04, 6.0000e+00, 3.0000e+00, ..., 0.0000e+00, 0.0000e+00,\n",
              "        0.0000e+00],\n",
              "       ...,\n",
              "       [3.0853e+04, 5.0000e+00, 4.0000e+00, ..., 0.0000e+00, 1.0000e+00,\n",
              "        0.0000e+00],\n",
              "       [2.9616e+04, 9.0000e+00, 4.0000e+00, ..., 0.0000e+00, 0.0000e+00,\n",
              "        0.0000e+00],\n",
              "       [2.9820e+04, 7.0000e+00, 4.0000e+00, ..., 0.0000e+00, 1.0000e+00,\n",
              "        0.0000e+00]])"
            ]
          },
          "metadata": {
            "tags": []
          },
          "execution_count": 7
        }
      ]
    },
    {
      "metadata": {
        "id": "akNj9hoTw707",
        "colab_type": "code",
        "outputId": "04f043d3-2456-4d58-d815-15d452d21cb4",
        "colab": {
          "base_uri": "https://localhost:8080/",
          "height": 51
        }
      },
      "cell_type": "code",
      "source": [
        "X_train, X_test, y_train, y_test = train_test_split(X, y, test_size=0.3)\n",
        "train_size = len(X_train)\n",
        "print(\"train_size : \",train_size)\n",
        "\n",
        "size_x = len(X_train[0])\n",
        "print(\"size_x : \",size_x)\n",
        "\n",
        "# 설정하는 부분\n",
        "learning_rate = 0.01\n",
        "training_epochs = 500\n",
        "batch_size = 128\n"
      ],
      "execution_count": 64,
      "outputs": [
        {
          "output_type": "stream",
          "text": [
            "train_size :  4804\n",
            "size_x :  19\n"
          ],
          "name": "stdout"
        }
      ]
    },
    {
      "metadata": {
        "id": "XYsNbpxlHpgw",
        "colab_type": "code",
        "colab": {}
      },
      "cell_type": "code",
      "source": [
        ""
      ],
      "execution_count": 0,
      "outputs": []
    },
    {
      "metadata": {
        "id": "PnTPAT_Ez9La",
        "colab_type": "code",
        "outputId": "0ae573b0-277f-4925-f16a-8a73fa260245",
        "colab": {
          "base_uri": "https://localhost:8080/",
          "height": 904
        }
      },
      "cell_type": "code",
      "source": [
        "tf.reset_default_graph()\n",
        "\n",
        "X = tf.placeholder(tf.float32, [None, size_x])\n",
        "Y = tf.placeholder(tf.float32, [None, 1])\n",
        "keep_prob = tf.placeholder(tf.float32)\n",
        "phase = tf.placeholder(tf.bool, name='phase')\n",
        "\n",
        "\n",
        "W1 = tf.get_variable(shape=[size_x, 128], name='weight1', initializer=tf.contrib.layers.xavier_initializer())\n",
        "b1 = tf.Variable(tf.random_normal([128]))\n",
        "layer1 = tf.nn.relu(tf.matmul(X, W1) + b1)\n",
        "layer1 = tf.nn.dropout(layer1, keep_prob=keep_prob)\n",
        "layer1 = tf.contrib.layers.batch_norm(layer1, center=True, scale=True, \n",
        "                                          is_training=phase)\n",
        "\n",
        "W2 = tf.get_variable(shape=[128, 64], name='weight2', initializer=tf.contrib.layers.xavier_initializer())\n",
        "b2 = tf.Variable(tf.random_normal([64]))\n",
        "layer2 = tf.nn.relu(tf.matmul(layer1, W2) + b2)\n",
        "layer2 = tf.nn.dropout(layer2, keep_prob=keep_prob)\n",
        "layer2 = tf.contrib.layers.batch_norm(layer2, center=True, scale=True, \n",
        "                                          is_training=phase)\n",
        "\n",
        "W3 = tf.get_variable(shape=[64, 32], name='weight3', initializer=tf.contrib.layers.xavier_initializer())\n",
        "b3 = tf.Variable(tf.random_normal([32]))\n",
        "layer3 = tf.nn.relu(tf.matmul(layer2, W3) + b3)\n",
        "layer3 = tf.nn.dropout(layer3, keep_prob=keep_prob)\n",
        "layer3 = tf.contrib.layers.batch_norm(layer3, center=True, scale=True, \n",
        "                                          is_training=phase)\n",
        "\n",
        "W4 = tf.get_variable(shape=[32, 1], name='weight4', initializer=tf.contrib.layers.xavier_initializer())\n",
        "b4 = tf.Variable(tf.random_normal([1]))\n",
        "hypothesis = tf.matmul(layer3, W4) + b4\n",
        "hypothesis = tf.contrib.layers.batch_norm(hypothesis, center=True, scale=True, \n",
        "                                          is_training=phase)\n",
        "\n",
        "\n",
        "cost = tf.reduce_mean(tf.square(hypothesis - Y))\n",
        "#cost = tf.losses.mean_squared_error(labels=Y, predictions=hypothesis)\n",
        "train = tf.train.AdamOptimizer(learning_rate=learning_rate).minimize(cost)\n",
        "\n",
        "sess = tf.Session()\n",
        "sess.run(tf.global_variables_initializer())\n",
        "\n",
        "for epoch in range(training_epochs):\n",
        "    avg_cost = 0\n",
        "    total_batch = int(train_size / batch_size)\n",
        "\n",
        "    for i in range(total_batch):\n",
        "        batch_xs = X_train[i*batch_size:(i+1)*batch_size]\n",
        "        batch_ys = y_train[i*batch_size:(i+1)*batch_size].reshape(batch_size,1)\n",
        "        feed_dict = {X: batch_xs, Y: batch_ys, keep_prob:0.7,phase:True}\n",
        "        c, _ = sess.run([cost, train], feed_dict=feed_dict)\n",
        "        avg_cost += c/total_batch\n",
        "        \n",
        "    if epoch%10==0:\n",
        "      print('Epoch:', '%04d' % (epoch + 1), 'cost =', '{:.9f}'.format(avg_cost))\n",
        "      \n"
      ],
      "execution_count": 65,
      "outputs": [
        {
          "output_type": "stream",
          "text": [
            "/usr/local/lib/python3.6/dist-packages/ipykernel_launcher.py:50: FutureWarning: reshape is deprecated and will raise in a subsequent release. Please use .values.reshape(...) instead\n"
          ],
          "name": "stderr"
        },
        {
          "output_type": "stream",
          "text": [
            "Epoch: 0001 cost = 13837.613809122\n",
            "Epoch: 0011 cost = 12972.444072002\n",
            "Epoch: 0021 cost = 12171.815376900\n",
            "Epoch: 0031 cost = 11385.225955448\n",
            "Epoch: 0041 cost = 10643.093327703\n",
            "Epoch: 0051 cost = 9937.804793074\n",
            "Epoch: 0061 cost = 9257.140677787\n",
            "Epoch: 0071 cost = 8611.694811022\n",
            "Epoch: 0081 cost = 7990.397540118\n",
            "Epoch: 0091 cost = 7397.058501372\n",
            "Epoch: 0101 cost = 6834.533440667\n",
            "Epoch: 0111 cost = 6290.615788640\n",
            "Epoch: 0121 cost = 5781.484678526\n",
            "Epoch: 0131 cost = 5290.448585304\n",
            "Epoch: 0141 cost = 4823.134567673\n",
            "Epoch: 0151 cost = 4379.707664696\n",
            "Epoch: 0161 cost = 3961.866098765\n",
            "Epoch: 0171 cost = 3567.706430796\n",
            "Epoch: 0181 cost = 3208.666734850\n",
            "Epoch: 0191 cost = 2859.875673036\n",
            "Epoch: 0201 cost = 2533.799065667\n",
            "Epoch: 0211 cost = 2231.685797614\n",
            "Epoch: 0221 cost = 1951.436589421\n",
            "Epoch: 0231 cost = 1693.549313107\n",
            "Epoch: 0241 cost = 1456.957466744\n",
            "Epoch: 0251 cost = 1241.967090504\n",
            "Epoch: 0261 cost = 1046.782152331\n",
            "Epoch: 0271 cost = 869.115881018\n",
            "Epoch: 0281 cost = 715.078334499\n",
            "Epoch: 0291 cost = 579.038438952\n",
            "Epoch: 0301 cost = 459.993715029\n",
            "Epoch: 0311 cost = 359.079838933\n",
            "Epoch: 0321 cost = 273.971027271\n",
            "Epoch: 0331 cost = 205.428913013\n",
            "Epoch: 0341 cost = 148.775244223\n",
            "Epoch: 0351 cost = 107.192661389\n",
            "Epoch: 0361 cost = 76.060559556\n",
            "Epoch: 0371 cost = 54.563921851\n",
            "Epoch: 0381 cost = 40.204149452\n",
            "Epoch: 0391 cost = 31.273192483\n",
            "Epoch: 0401 cost = 28.739574278\n",
            "Epoch: 0411 cost = 26.108764442\n",
            "Epoch: 0421 cost = 25.234561997\n",
            "Epoch: 0431 cost = 25.746868623\n",
            "Epoch: 0441 cost = 24.682473080\n",
            "Epoch: 0451 cost = 25.414081805\n",
            "Epoch: 0461 cost = 24.800021275\n",
            "Epoch: 0471 cost = 23.971001986\n",
            "Epoch: 0481 cost = 22.996690699\n",
            "Epoch: 0491 cost = 23.099780753\n"
          ],
          "name": "stdout"
        }
      ]
    },
    {
      "metadata": {
        "id": "JWl5bvELnwB9",
        "colab_type": "code",
        "colab": {
          "base_uri": "https://localhost:8080/",
          "height": 34
        },
        "outputId": "0cedf8ee-014a-4607-fc94-78b5163e4af0"
      },
      "cell_type": "code",
      "source": [
        "\n",
        "y_test = y_test.reshape(-1,1)\n",
        "mse = tf.reduce_mean(tf.square(hypothesis - Y))\n",
        "print('Accuracy:', sess.run(mse, feed_dict={\n",
        "      X: X_test, Y: y_test, keep_prob:1, phase:False}))"
      ],
      "execution_count": 67,
      "outputs": [
        {
          "output_type": "stream",
          "text": [
            "Accuracy: 46511040000000.0\n"
          ],
          "name": "stdout"
        }
      ]
    }
  ]
}