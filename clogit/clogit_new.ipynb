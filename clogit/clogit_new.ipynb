{
 "cells": [
  {
   "cell_type": "code",
   "execution_count": 1,
   "metadata": {},
   "outputs": [],
   "source": [
    "import numpy as np; import pandas as pd\n",
    "import re; import datetime; from collections import Counter, OrderedDict\n",
    "import category_encoders as ce\n",
    "from sklearn.model_selection import train_test_split\n",
    "# import pylogit as pl"
   ]
  },
  {
   "cell_type": "code",
   "execution_count": 20,
   "metadata": {},
   "outputs": [],
   "source": [
    "df = pd.read_csv(r'가마우지\\race_result.csv', engine='python', encoding='utf-8')"
   ]
  },
  {
   "cell_type": "code",
   "execution_count": 25,
   "metadata": {},
   "outputs": [
    {
     "data": {
      "text/plain": [
       "Index(['url', 'date', 'round', 'name', 'code', 'rank', 'lane', 'sex', 'age',\n",
       "       'jockey_w', 'rating', 'jockey', 'difference', 'weight', 'dandivi',\n",
       "       'yeondivi', 's1fr', 'c1r', 'c2r', 'c3r', 'c4r', 'g1fr', 's1f', 'c1',\n",
       "       'c2', 'c3', 'c4', 'g3f', 'g1f', 'record', 'cure_in_1m', 'weight_diff',\n",
       "       'raw_weight', 'weight_added', 'distance', 'velocity', 'prev1_rank',\n",
       "       'prev2_rank', 'prev3_rank', 'prev1_velo', 'prev2_velo', 'prev3_velo',\n",
       "       'horse_level_num', 'year', 'month', 'choice', 'choice2', 'choice3',\n",
       "       'danwin1yr', 'bokwin1yr', 'samwin1yr', 'jdanwin1yr', 'jbokwin1yr',\n",
       "       'jsamwin1yr', 'jprev1_rank', 'jprev2_rank', 'jprev3_rank', 'humidity',\n",
       "       'race_level', 'new_distance'],\n",
       "      dtype='object')"
      ]
     },
     "execution_count": 25,
     "metadata": {},
     "output_type": "execute_result"
    }
   ],
   "source": [
    "df.columns"
   ]
  },
  {
   "cell_type": "code",
   "execution_count": 26,
   "metadata": {},
   "outputs": [],
   "source": [
    "df['groupid'] = df['date'] + df['round'].apply(str)"
   ]
  },
  {
   "cell_type": "code",
   "execution_count": 27,
   "metadata": {},
   "outputs": [],
   "source": [
    "idset = list(set(df['groupid']))\n",
    "give_ids = dict(list(zip(idset, list(range(len(idset))))))"
   ]
  },
  {
   "cell_type": "code",
   "execution_count": 28,
   "metadata": {},
   "outputs": [],
   "source": [
    "df['groupid'] = df['groupid'].apply(lambda x: give_ids[x])\n",
    "df = df[df['distance'] > 0] # 거리 정보 있는 것만 살림"
   ]
  },
  {
   "cell_type": "code",
   "execution_count": 29,
   "metadata": {},
   "outputs": [],
   "source": [
    "distances = list(set(df['distance']))\n",
    "avg_vel = {}"
   ]
  },
  {
   "cell_type": "code",
   "execution_count": 30,
   "metadata": {},
   "outputs": [],
   "source": [
    "for i in distances:\n",
    "    avg_vel[i] = df[df['distance'] == i]['velocity'].mean()"
   ]
  },
  {
   "cell_type": "code",
   "execution_count": 31,
   "metadata": {
    "scrolled": true
   },
   "outputs": [],
   "source": [
    "df['avg_vel'] = df['distance'].apply(lambda x: avg_vel[x])\n",
    "df['adj_vel'] = df['velocity'] / df['avg_vel']"
   ]
  },
  {
   "cell_type": "code",
   "execution_count": 32,
   "metadata": {},
   "outputs": [],
   "source": [
    "df['prev1_rank']=df['prev1_rank'].fillna('0'); df['prev2_rank']=df['prev2_rank'].fillna('0')\n",
    "df['jprev1_rank']=df['jprev1_rank'].fillna('0'); df['jprev2_rank']=df['jprev2_rank'].fillna('0')"
   ]
  },
  {
   "cell_type": "code",
   "execution_count": 36,
   "metadata": {},
   "outputs": [],
   "source": [
    "df = df[(df['prev1_rank'] != '0') & (df['prev2_rank'] != '0') & (df['jprev1_rank'] != '0') & (df['jprev2_rank'] != '0')]\n",
    "#df = df[(df['prev1_rank'] != '0') & (df['prev2_rank'] != '0') & (df['jprev1_rank'] != '0') & (df['jprev2_rank'] != '0')]"
   ]
  },
  {
   "cell_type": "code",
   "execution_count": 38,
   "metadata": {
    "scrolled": true
   },
   "outputs": [
    {
     "data": {
      "text/plain": [
       "{'1',\n",
       " '10',\n",
       " '11',\n",
       " '12',\n",
       " '13',\n",
       " '14',\n",
       " '15',\n",
       " '2',\n",
       " '3',\n",
       " '4',\n",
       " '5',\n",
       " '6',\n",
       " '7',\n",
       " '8',\n",
       " '9',\n",
       " '실',\n",
       " '제',\n",
       " '중',\n",
       " '취'}"
      ]
     },
     "execution_count": 38,
     "metadata": {},
     "output_type": "execute_result"
    }
   ],
   "source": [
    "set(df['prev2_rank'])"
   ]
  },
  {
   "cell_type": "code",
   "execution_count": 41,
   "metadata": {},
   "outputs": [],
   "source": [
    "nums = list(map(str,range(1,17)))\n",
    "def return_rank(x):\n",
    "    if x in nums: return int(x)\n",
    "    else: return 0\n",
    "    \n",
    "df['rank'] = df['rank'].apply(return_rank)\n",
    "df['prev1_rank'] = df['prev1_rank'].apply(return_rank)\n",
    "df['prev2_rank'] = df['prev2_rank'].apply(return_rank)\n",
    "df['jprev1_rank'] = df['jprev1_rank'].apply(return_rank)\n",
    "df['jprev2_rank'] = df['jprev2_rank'].apply(return_rank)\n",
    "# df = df[(df['prev1_rank'].apply(lambda x: x in nums)) & (df['prev2_rank'].apply(lambda x: x in nums))]\n",
    "# df['prev1_rank'] = df['prev1_rank'].apply(int)\n",
    "# df['prev2_rank'] = df['prev2_rank'].apply(int)"
   ]
  },
  {
   "cell_type": "code",
   "execution_count": 44,
   "metadata": {},
   "outputs": [],
   "source": [
    "for i in df.index:\n",
    "    a = df.loc[i, 'prev1_rank']; b = df.loc[i, 'prev2_rank']\n",
    "    if a != 0 and b != 0:\n",
    "        df.loc[i, 'prev_rank'] = (a+b)/2\n",
    "    elif a == 0 and b == 0:\n",
    "        df.loc[i, 'prev_rank'] = 0\n",
    "        df.loc[i, 'false2time'] = 1\n",
    "    else:\n",
    "        df.loc[i, 'prev_rank'] = a+b\n",
    "        df.loc[i, 'false1time'] = 1\n",
    "#del df['prev1_rank'], df['prev2_rank']"
   ]
  },
  {
   "cell_type": "code",
   "execution_count": 45,
   "metadata": {},
   "outputs": [],
   "source": [
    "df['false1time'] = df['false1time'].fillna(0)\n",
    "df['false2time'] = df['false2time'].fillna(0)"
   ]
  },
  {
   "cell_type": "code",
   "execution_count": 46,
   "metadata": {},
   "outputs": [],
   "source": [
    "for i in df.index:\n",
    "    a = df.loc[i, 'jprev1_rank']; b = df.loc[i, 'jprev2_rank']\n",
    "    if a != 0 and b != 0:\n",
    "        df.loc[i, 'jprev_rank'] = (a+b)/2\n",
    "    elif a == 0 and b == 0:\n",
    "        df.loc[i, 'jprev_rank'] = 0\n",
    "        df.loc[i, 'jfalse2time'] = 1\n",
    "    else:\n",
    "        df.loc[i, 'jprev_rank'] = a+b\n",
    "        df.loc[i, 'jfalse1time'] = 1\n",
    "        \n",
    "df['jfalse1time'] = df['jfalse1time'].fillna(0)\n",
    "df['jfalse2time'] = df['jfalse2time'].fillna(0)\n",
    "#del df['prev1_rank'], df['prev2_rank']"
   ]
  },
  {
   "cell_type": "code",
   "execution_count": 48,
   "metadata": {},
   "outputs": [],
   "source": [
    "df['norating'] = (df['horse_level_num'] == 10).apply(int)"
   ]
  },
  {
   "cell_type": "code",
   "execution_count": 49,
   "metadata": {},
   "outputs": [],
   "source": [
    "df['sex1'] = (df['sex'] == '수').apply(int)\n",
    "df['sex2'] = (df['sex'] == '암').apply(int)"
   ]
  },
  {
   "cell_type": "code",
   "execution_count": 58,
   "metadata": {},
   "outputs": [
    {
     "data": {
      "text/plain": [
       "Index(['url', 'date', 'round', 'name', 'code', 'rank', 'lane', 'sex', 'age',\n",
       "       'jockey_w', 'rating', 'jockey', 'difference', 'weight', 'dandivi',\n",
       "       'yeondivi', 's1fr', 'c1r', 'c2r', 'c3r', 'c4r', 'g1fr', 's1f', 'c1',\n",
       "       'c2', 'c3', 'c4', 'g3f', 'g1f', 'record', 'cure_in_1m', 'weight_diff',\n",
       "       'raw_weight', 'weight_added', 'distance', 'velocity', 'prev1_rank',\n",
       "       'prev2_rank', 'prev3_rank', 'prev1_velo', 'prev2_velo', 'prev3_velo',\n",
       "       'horse_level_num', 'year', 'month', 'choice', 'choice2', 'choice3',\n",
       "       'danwin1yr', 'bokwin1yr', 'samwin1yr', 'jdanwin1yr', 'jbokwin1yr',\n",
       "       'jsamwin1yr', 'jprev1_rank', 'jprev2_rank', 'jprev3_rank', 'humidity',\n",
       "       'race_level', 'new_distance', 'groupid', 'avg_vel', 'adj_vel',\n",
       "       'prev_rank', 'false1time', 'false2time', 'jprev_rank', 'jfalse1time',\n",
       "       'jfalse2time', 'norating', 'sex1', 'sex2'],\n",
       "      dtype='object')"
      ]
     },
     "execution_count": 58,
     "metadata": {},
     "output_type": "execute_result"
    }
   ],
   "source": [
    "df.columns"
   ]
  },
  {
   "cell_type": "code",
   "execution_count": 60,
   "metadata": {},
   "outputs": [],
   "source": [
    "df.to_csv('hyunse_df.csv', encoding = 'utf-8')"
   ]
  },
  {
   "cell_type": "code",
   "execution_count": 71,
   "metadata": {},
   "outputs": [],
   "source": [
    "df = pd.read_csv('hyunse_df.csv', encoding = 'utf-8')"
   ]
  },
  {
   "cell_type": "code",
   "execution_count": 75,
   "metadata": {},
   "outputs": [],
   "source": [
    "groupids = list(set(df['groupid']))\n",
    "train, test = train_test_split(groupids, test_size = 0.3, random_state=datetime.datetime.now().second)\n",
    "\n",
    "train = df[df['groupid'].apply(lambda x: x in train)]\n",
    "test = df[df['groupid'].apply(lambda x: x in test)]"
   ]
  },
  {
   "cell_type": "code",
   "execution_count": 76,
   "metadata": {
    "scrolled": true
   },
   "outputs": [
    {
     "name": "stderr",
     "output_type": "stream",
     "text": [
      "C:\\Users\\myeon\\AppData\\Local\\Continuum\\anaconda3\\lib\\site-packages\\ipykernel_launcher.py:2: SettingWithCopyWarning: \n",
      "A value is trying to be set on a copy of a slice from a DataFrame.\n",
      "Try using .loc[row_indexer,col_indexer] = value instead\n",
      "\n",
      "See the caveats in the documentation: http://pandas.pydata.org/pandas-docs/stable/indexing.html#indexing-view-versus-copy\n",
      "  \n",
      "C:\\Users\\myeon\\AppData\\Local\\Continuum\\anaconda3\\lib\\site-packages\\ipykernel_launcher.py:3: SettingWithCopyWarning: \n",
      "A value is trying to be set on a copy of a slice from a DataFrame.\n",
      "Try using .loc[row_indexer,col_indexer] = value instead\n",
      "\n",
      "See the caveats in the documentation: http://pandas.pydata.org/pandas-docs/stable/indexing.html#indexing-view-versus-copy\n",
      "  This is separate from the ipykernel package so we can avoid doing imports until\n",
      "C:\\Users\\myeon\\AppData\\Local\\Continuum\\anaconda3\\lib\\site-packages\\ipykernel_launcher.py:6: SettingWithCopyWarning: \n",
      "A value is trying to be set on a copy of a slice from a DataFrame.\n",
      "Try using .loc[row_indexer,col_indexer] = value instead\n",
      "\n",
      "See the caveats in the documentation: http://pandas.pydata.org/pandas-docs/stable/indexing.html#indexing-view-versus-copy\n",
      "  \n",
      "C:\\Users\\myeon\\AppData\\Local\\Continuum\\anaconda3\\lib\\site-packages\\ipykernel_launcher.py:7: SettingWithCopyWarning: \n",
      "A value is trying to be set on a copy of a slice from a DataFrame.\n",
      "Try using .loc[row_indexer,col_indexer] = value instead\n",
      "\n",
      "See the caveats in the documentation: http://pandas.pydata.org/pandas-docs/stable/indexing.html#indexing-view-versus-copy\n",
      "  import sys\n"
     ]
    }
   ],
   "source": [
    "train2 = train[train['rank']!=1]\n",
    "train2['choice'] = (train2['rank'] == 2).apply(int)\n",
    "train2['groupid'] = train2['groupid'] + 10000\n",
    "\n",
    "train3 = train[train['rank']!=2]\n",
    "train3['choice'] = (train3['rank'] == 3).apply(int)\n",
    "train3['groupid'] = train3['groupid'] + 20000"
   ]
  },
  {
   "cell_type": "code",
   "execution_count": 77,
   "metadata": {},
   "outputs": [],
   "source": [
    "train = train.append(train2, ignore_index=True).append(train3, ignore_index=True)"
   ]
  },
  {
   "cell_type": "code",
   "execution_count": 78,
   "metadata": {},
   "outputs": [],
   "source": [
    "del train2, train3"
   ]
  },
  {
   "cell_type": "code",
   "execution_count": 79,
   "metadata": {},
   "outputs": [
    {
     "data": {
      "text/plain": [
       "Index(['url', 'date', 'round', 'name', 'code', 'rank', 'lane', 'sex', 'age',\n",
       "       'jockey_w', 'rating', 'jockey', 'difference', 'weight', 'dandivi',\n",
       "       'yeondivi', 's1fr', 'c1r', 'c2r', 'c3r', 'c4r', 'g1fr', 's1f', 'c1',\n",
       "       'c2', 'c3', 'c4', 'g3f', 'g1f', 'record', 'cure_in_1m', 'weight_diff',\n",
       "       'raw_weight', 'weight_added', 'distance', 'velocity', 'prev1_rank',\n",
       "       'prev2_rank', 'prev3_rank', 'prev1_velo', 'prev2_velo', 'prev3_velo',\n",
       "       'horse_level_num', 'year', 'month', 'choice', 'choice2', 'choice3',\n",
       "       'danwin1yr', 'bokwin1yr', 'samwin1yr', 'jdanwin1yr', 'jbokwin1yr',\n",
       "       'jsamwin1yr', 'jprev1_rank', 'jprev2_rank', 'jprev3_rank', 'humidity',\n",
       "       'race_level', 'new_distance', 'groupid', 'avg_vel', 'adj_vel',\n",
       "       'prev_rank', 'false1time', 'false2time', 'jprev_rank', 'jfalse1time',\n",
       "       'jfalse2time', 'norating', 'sex1', 'sex2'],\n",
       "      dtype='object')"
      ]
     },
     "execution_count": 79,
     "metadata": {},
     "output_type": "execute_result"
    }
   ],
   "source": [
    "train.columns"
   ]
  },
  {
   "cell_type": "code",
   "execution_count": 80,
   "metadata": {},
   "outputs": [],
   "source": [
    "use = ['choice', 'groupid', 'lane', 'age', 'jockey_w', 'dandivi', 'yeondivi', 'cure_in_1m', 'weight_diff', 'raw_weight', 'horse_level_num',\\\n",
    "      'new_distance', 'adj_vel', 'prev_rank', 'false1time', 'false2time', 'jprev_rank', 'jfalse1time', 'jfalse2time', 'norating', 'sex1', 'sex2']"
   ]
  },
  {
   "cell_type": "markdown",
   "metadata": {},
   "source": [
    "basic_specification = OrderedDict()\n",
    "basic_names = OrderedDict()\n",
    "li = list(range(1,17))\n",
    "xs = ['lane', 'sex1', 'sex2', 'age', 'jockey_w', 'dandivi', 'yeondivi', 'cure_in_1m', 'raw_weight', 'weight_added', 'horse_level_num', 'prev_rank', 'norating']\n",
    "basic_specification[\"intercept\"] = [li]\n",
    "basic_names['intercept'] = ['annoying']\n",
    "\n",
    "for i in xs:\n",
    "    basic_specification[i] = [li]\n",
    "    basic_names[i] = [i]"
   ]
  },
  {
   "cell_type": "markdown",
   "metadata": {},
   "source": [
    "custom_alt_id = \"lane\"\n",
    "obs_id_column = \"groupid\"\n",
    "choice_column = \"choice\""
   ]
  },
  {
   "cell_type": "markdown",
   "metadata": {},
   "source": [
    "clogit_mnl = pl.create_choice_model(data=train_new.sort_values(by=['groupid']),\n",
    "                                        alt_id_col=custom_alt_id,\n",
    "                                        obs_id_col=obs_id_column,\n",
    "                                        choice_col=choice_column,\n",
    "                                        specification=basic_specification,\n",
    "                                        model_type=\"MNL\",\n",
    "                                        names=basic_names)\n",
    "\n",
    "clogit_mnl.fit_mle(np.ones(14))\n",
    "clogit_mnl.get_statsmodels_summary()"
   ]
  },
  {
   "cell_type": "code",
   "execution_count": 175,
   "metadata": {},
   "outputs": [],
   "source": [
    "groupids = list(set(train['groupid']))"
   ]
  },
  {
   "cell_type": "markdown",
   "metadata": {
    "scrolled": true
   },
   "source": [
    "import random\n",
    "tmps = []; memory = []\n",
    "\n",
    "for i in groupids:\n",
    "    dta = train[train['groupid']==i]\n",
    "    diff = list(dta['lane'])\n",
    "    dta = dta[dta['choice'] == 0]\n",
    "    if len(dta)==0: \n",
    "        memory.append(i)\n",
    "        continue\n",
    "    for j in li:\n",
    "        if j not in diff:\n",
    "            r = random.randint(0, len(dta)-1)\n",
    "            tmp=list(dta.iloc[r,:])\n",
    "            tmp[0]=j\n",
    "            tmps.append(tmp)"
   ]
  },
  {
   "cell_type": "markdown",
   "metadata": {},
   "source": [
    "train_new = train.append(pd.DataFrame(tmps, columns = train.columns), ignore_index = True)"
   ]
  },
  {
   "cell_type": "markdown",
   "metadata": {},
   "source": [
    "train_new = train_new[train_new['식별'] == False]"
   ]
  },
  {
   "cell_type": "markdown",
   "metadata": {},
   "source": [
    "train_new['식별'] = train_new['groupid'].apply(lambda x: x in memory)"
   ]
  },
  {
   "cell_type": "markdown",
   "metadata": {
    "scrolled": true
   },
   "source": [
    "train_new"
   ]
  },
  {
   "cell_type": "code",
   "execution_count": 81,
   "metadata": {},
   "outputs": [],
   "source": [
    "train = train[use].sort_values(by=['groupid'])"
   ]
  },
  {
   "cell_type": "code",
   "execution_count": 82,
   "metadata": {},
   "outputs": [],
   "source": [
    "test = test[use].sort_values(by=['groupid'])"
   ]
  },
  {
   "cell_type": "code",
   "execution_count": 83,
   "metadata": {
    "scrolled": false
   },
   "outputs": [
    {
     "data": {
      "text/plain": [
       "Index(['choice', 'groupid', 'lane', 'age', 'jockey_w', 'dandivi', 'yeondivi',\n",
       "       'cure_in_1m', 'weight_diff', 'raw_weight', 'horse_level_num',\n",
       "       'new_distance', 'adj_vel', 'prev_rank', 'false1time', 'false2time',\n",
       "       'jprev_rank', 'jfalse1time', 'jfalse2time', 'norating', 'sex1', 'sex2'],\n",
       "      dtype='object')"
      ]
     },
     "execution_count": 83,
     "metadata": {},
     "output_type": "execute_result"
    }
   ],
   "source": [
    "train.columns"
   ]
  },
  {
   "cell_type": "code",
   "execution_count": 84,
   "metadata": {},
   "outputs": [],
   "source": [
    "train.to_csv('clogit_train2.csv', encoding='utf-8', index=False)\n",
    "#train_new.to_csv('clogit_train_new.csv', encoding='utf-8', index=False)\n",
    "test.to_csv('clogit_test2.csv', encoding='utf-8', index=False)"
   ]
  },
  {
   "cell_type": "markdown",
   "metadata": {},
   "source": [
    "# STATA 코드들\n",
    "- train data만 넣은 뒤 -\n",
    "clogit var1 var2 var3 var4 var5 var6 var7 var8 var9 var10 var11 var12 var14 var15, group(var16)\n",
    "- test data append 하고 -\n",
    "predict phat\n",
    "- 이후 csv로 test data 부분의 phat column만 export한다 -> 빈 칸들 100으로 대체해줌."
   ]
  },
  {
   "cell_type": "code",
   "execution_count": 88,
   "metadata": {},
   "outputs": [],
   "source": [
    "test = pd.read_csv('clogit_test2.csv', encoding = 'utf-8')"
   ]
  },
  {
   "cell_type": "code",
   "execution_count": 89,
   "metadata": {},
   "outputs": [],
   "source": [
    "test = test.set_index(['groupid', 'lane'])"
   ]
  },
  {
   "cell_type": "code",
   "execution_count": 90,
   "metadata": {},
   "outputs": [],
   "source": [
    "df = pd.read_csv('hyunse_df.csv', encoding = 'utf-8') # rank살리기..."
   ]
  },
  {
   "cell_type": "code",
   "execution_count": 91,
   "metadata": {},
   "outputs": [],
   "source": [
    "# test data choice2, 3 살리기..\n",
    "df = df.set_index(['groupid', 'lane'])"
   ]
  },
  {
   "cell_type": "code",
   "execution_count": 92,
   "metadata": {},
   "outputs": [],
   "source": [
    "test['rank'] = df['rank']"
   ]
  },
  {
   "cell_type": "code",
   "execution_count": 94,
   "metadata": {},
   "outputs": [],
   "source": [
    "test['choice2'] = test['choice'] + (test['rank'] == 2)\n",
    "test['choice3'] = test['choice2'] + (test['rank'] == 3)"
   ]
  },
  {
   "cell_type": "code",
   "execution_count": 95,
   "metadata": {},
   "outputs": [],
   "source": [
    "test = test.reset_index()"
   ]
  },
  {
   "cell_type": "code",
   "execution_count": 105,
   "metadata": {
    "scrolled": true
   },
   "outputs": [],
   "source": [
    "why=list(pd.read_csv('dfdsaf.csv').iloc[:,0]) # STATA로 뽑은 phat"
   ]
  },
  {
   "cell_type": "code",
   "execution_count": 106,
   "metadata": {},
   "outputs": [],
   "source": [
    "test['phat'] = why"
   ]
  },
  {
   "cell_type": "code",
   "execution_count": 107,
   "metadata": {},
   "outputs": [],
   "source": [
    "test['delete']=test['phat'].apply(lambda x: x == 100)\n",
    "test = test[test['delete'] == 0]"
   ]
  },
  {
   "cell_type": "code",
   "execution_count": 108,
   "metadata": {
    "scrolled": true
   },
   "outputs": [
    {
     "name": "stderr",
     "output_type": "stream",
     "text": [
      "C:\\Users\\myeon\\AppData\\Local\\Continuum\\anaconda3\\lib\\site-packages\\ipykernel_launcher.py:1: SettingWithCopyWarning: \n",
      "A value is trying to be set on a copy of a slice from a DataFrame.\n",
      "Try using .loc[row_indexer,col_indexer] = value instead\n",
      "\n",
      "See the caveats in the documentation: http://pandas.pydata.org/pandas-docs/stable/indexing.html#indexing-view-versus-copy\n",
      "  \"\"\"Entry point for launching an IPython kernel.\n"
     ]
    }
   ],
   "source": [
    "test['phat']=test['phat'].apply(float)"
   ]
  },
  {
   "cell_type": "code",
   "execution_count": 109,
   "metadata": {},
   "outputs": [],
   "source": [
    "idx = list(set(test['groupid']))\n",
    "dictt=dict(test.groupby(['groupid'])['phat'].max())\n",
    "dandivi = []\n",
    "\n",
    "t1=0; t2=0; t3=0\n",
    "for i in idx:\n",
    "    if list(test[(test['groupid']==i) & (test['phat']==dictt[i])]['choice'])[0] == 1:\n",
    "        t1 = t1 + 1\n",
    "        #dandivi.append(list(test[(test['groupid']==i) & (test['phat']==dictt[i])]['dandivi'])[0])\n",
    "    if list(test[(test['groupid']==i) & (test['phat']==dictt[i])]['choice2'])[0] == 1:\n",
    "        t2 = t2 + 1\n",
    "    if list(test[(test['groupid']==i) & (test['phat']==dictt[i])]['choice3'])[0] == 1:\n",
    "        t3 = t3 + 1 "
   ]
  },
  {
   "cell_type": "code",
   "execution_count": 85,
   "metadata": {},
   "outputs": [
    {
     "data": {
      "text/plain": [
       "0.292894280762565"
      ]
     },
     "execution_count": 85,
     "metadata": {},
     "output_type": "execute_result"
    }
   ],
   "source": [
    "import numpy as np\n",
    "(np.array(dandivi) >= 3).mean()"
   ]
  },
  {
   "cell_type": "code",
   "execution_count": 110,
   "metadata": {},
   "outputs": [],
   "source": [
    "total = test.groupby(['groupid']).max()['choice'].sum()\n",
    "total2 = test.groupby(['groupid']).max()['choice2'].sum()\n",
    "total3 = test.groupby(['groupid']).max()['choice3'].sum()"
   ]
  },
  {
   "cell_type": "code",
   "execution_count": 111,
   "metadata": {},
   "outputs": [
    {
     "name": "stdout",
     "output_type": "stream",
     "text": [
      "0.5952685421994884\n",
      "0.7314652656158785\n",
      "0.781786941580756\n"
     ]
    }
   ],
   "source": [
    "print(t1 / total)\n",
    "print(t2 / total2)\n",
    "print(t3 / total3)"
   ]
  },
  {
   "cell_type": "code",
   "execution_count": 112,
   "metadata": {},
   "outputs": [],
   "source": [
    "for_accu=dict(test.groupby(['groupid']).count()['lane']<5)"
   ]
  },
  {
   "cell_type": "code",
   "execution_count": 113,
   "metadata": {},
   "outputs": [
    {
     "name": "stderr",
     "output_type": "stream",
     "text": [
      "C:\\Users\\myeon\\AppData\\Local\\Continuum\\anaconda3\\lib\\site-packages\\ipykernel_launcher.py:1: SettingWithCopyWarning: \n",
      "A value is trying to be set on a copy of a slice from a DataFrame.\n",
      "Try using .loc[row_indexer,col_indexer] = value instead\n",
      "\n",
      "See the caveats in the documentation: http://pandas.pydata.org/pandas-docs/stable/indexing.html#indexing-view-versus-copy\n",
      "  \"\"\"Entry point for launching an IPython kernel.\n"
     ]
    }
   ],
   "source": [
    "test['foraccu'] = test['groupid'].apply(lambda x: for_accu[x])"
   ]
  },
  {
   "cell_type": "code",
   "execution_count": 114,
   "metadata": {},
   "outputs": [],
   "source": [
    "test_n = test[test['foraccu']==False]"
   ]
  },
  {
   "cell_type": "code",
   "execution_count": 115,
   "metadata": {},
   "outputs": [
    {
     "data": {
      "text/plain": [
       "{0, 1, 2, 3, 4, 5, 6, 7, 8, 9, 10, 11, 12, 13, 14, 15}"
      ]
     },
     "execution_count": 115,
     "metadata": {},
     "output_type": "execute_result"
    }
   ],
   "source": [
    "set(test_n['rank'])"
   ]
  },
  {
   "cell_type": "code",
   "execution_count": 126,
   "metadata": {},
   "outputs": [],
   "source": [
    "idx = list(set(test_n['groupid']))\n",
    "dictt=dict(test_n.groupby(['groupid'])['phat'].max())\n",
    "dandivi = []\n",
    "\n",
    "t1=0; t2=0; t3=0\n",
    "for i in idx:\n",
    "    if list(test_n[(test_n['groupid']==i) & (test_n['phat']==dictt[i])]['choice'])[0] == 1:\n",
    "        t1 = t1 + 1\n",
    "        #dandivi.append(list(test[(test['groupid']==i) & (test['phat']==dictt[i])]['dandivi'])[0])\n",
    "    if list(test_n[(test_n['groupid']==i) & (test_n['phat']==dictt[i])]['choice2'])[0] == 1:\n",
    "        t2 = t2 + 1\n",
    "    if list(test_n[(test_n['groupid']==i) & (test_n['phat']==dictt[i])]['choice3'])[0] == 1:\n",
    "        t3 = t3 + 1 "
   ]
  },
  {
   "cell_type": "code",
   "execution_count": 120,
   "metadata": {},
   "outputs": [],
   "source": [
    "total = test_n.groupby(['groupid']).max()['choice'].sum()\n",
    "total2 = test_n.groupby(['groupid']).max()['choice2'].sum()\n",
    "total3 = test_n.groupby(['groupid']).max()['choice3'].sum()"
   ]
  },
  {
   "cell_type": "code",
   "execution_count": 116,
   "metadata": {},
   "outputs": [],
   "source": [
    "idx = list(set(test_n['groupid'])) # n번째로 확률 높은 애가 몇 등할지?\n",
    "#dictt=dict(test_n.groupby(['groupid'])['phat'].max())\n",
    "dandivi = []\n",
    "\n",
    "t1n=0; t2n=0; t3n=0\n",
    "cnt=0\n",
    "\n",
    "for i in idx:\n",
    "    rnk = list(test_n[test_n['groupid']==i]['rank'])\n",
    "    tmp = test_n[test_n['groupid']==i].sort_values(by=['phat'], ascending=False).iloc[0,:] # iloc index 바꾸면 몇 등인지 뺄 수 있겠음.\n",
    "    tmp2 = test_n[test_n['groupid']==i].sort_values(by=['phat'], ascending=False).iloc[1,:]\n",
    "#     print(tmp['phat'])\n",
    "#     break\n",
    "    if 1 in rnk and 2 in rnk: cnt = cnt + 1\n",
    "    if tmp['rank'] == 1 and tmp2['rank'] == 2:\n",
    "        t1n = t1n + 1\n",
    "        #dandivi.append(list(test[(test['groupid']==i) & (test['phat']==dictt[i])]['dandivi'])[0])\n",
    "#     if tmp['choice2'] == 1:\n",
    "#         t2n = t2n + 1\n",
    "#     if tmp['choice3'] == 1:\n",
    "#         t3n = t3n + 1 \n",
    "\n",
    "# totaln = test_n.groupby(['groupid']).max()['choice'].sum()\n",
    "# total2n = test_n.groupby(['groupid']).max()['choice2'].sum()\n",
    "# total3n = test_n.groupby(['groupid']).max()['choice3'].sum()"
   ]
  },
  {
   "cell_type": "code",
   "execution_count": 117,
   "metadata": {},
   "outputs": [
    {
     "data": {
      "text/plain": [
       "0.3361462728551336"
      ]
     },
     "execution_count": 117,
     "metadata": {},
     "output_type": "execute_result"
    }
   ],
   "source": [
    "t1n / cnt"
   ]
  },
  {
   "cell_type": "code",
   "execution_count": 127,
   "metadata": {},
   "outputs": [
    {
     "name": "stdout",
     "output_type": "stream",
     "text": [
      "0.5875816993464053\n",
      "0.7251356238698011\n",
      "0.7771156138259833\n"
     ]
    }
   ],
   "source": [
    "print(t1 / total)\n",
    "print(t2 / total2)\n",
    "print(t3 / total3)"
   ]
  }
 ],
 "metadata": {
  "kernelspec": {
   "display_name": "Python 3",
   "language": "python",
   "name": "python3"
  },
  "language_info": {
   "codemirror_mode": {
    "name": "ipython",
    "version": 3
   },
   "file_extension": ".py",
   "mimetype": "text/x-python",
   "name": "python",
   "nbconvert_exporter": "python",
   "pygments_lexer": "ipython3",
   "version": "3.6.4"
  }
 },
 "nbformat": 4,
 "nbformat_minor": 2
}
