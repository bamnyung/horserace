{
 "cells": [
  {
   "cell_type": "code",
   "execution_count": 1,
   "metadata": {},
   "outputs": [],
   "source": [
    "import random\n",
    "import pandas as pd\n",
    "import numpy as np\n",
    "from sklearn.model_selection import train_test_split"
   ]
  },
  {
   "cell_type": "code",
   "execution_count": 8,
   "metadata": {},
   "outputs": [],
   "source": [
    "mydir = \"C:\\\\Users\\\\Yang\\\\Desktop\\\\영진\\\\학회.동아리\\\\Growth Hackers\\\\\n",
    "경마프로젝트\\\\DB\\\\\"\n",
    "crawldata = \"crawling data.csv\"\n",
    "# predict = \"prediction.csv\"\n",
    "df = pd.read_csv(mydir+crawldata,engine = 'python', index_col = 0,encoding='utf-8')\n",
    "# df = pd.read_csv(mydir + predict,engine = 'python', index_col = 0,encoding='utf-8')\n"
   ]
  },
  {
   "cell_type": "code",
   "execution_count": 3,
   "metadata": {},
   "outputs": [
    {
     "name": "stdout",
     "output_type": "stream",
     "text": [
      "Index(['url_x', 'date', 'round', 'name', 'code', 'rank', 'lane', 'sex', 'age',\n",
      "       'jockey_w', 'rating', 'jockey', 'difference', 'weight', 'dandivi',\n",
      "       'yeondivi', 's1fr', 'c1r', 'c2r', 'c3r', 'c4r', 'g1fr', 's1f', 'c1',\n",
      "       'c2', 'c3', 'c4', 'g3f', 'g1f', 'record', 'Unnamed: 0_y', 'url_y',\n",
      "       'weather', 'humidity', 'level', 'distance', 'dan', 'yeon1', 'yeon2',\n",
      "       'yeon3', 'bok', 'ssang', 'bokyeon1', 'bokyeon2', 'bokyeon3', 'sambok',\n",
      "       'samssang', 'horses', 'h1', 'h2', 'h3', 'h4', 'h5', 'h6', 'h7', 'h8',\n",
      "       'h9', 'h10', 'h11', 'h12', 'h13', 'h14', 'h15', 'h16', 'location'],\n",
      "      dtype='object')\n"
     ]
    }
   ],
   "source": [
    "print(df.columns)\n",
    "data = df[['date','round','location','rank','dandivi','yeondivi','lane']]\n"
   ]
  },
  {
   "cell_type": "code",
   "execution_count": 4,
   "metadata": {},
   "outputs": [
    {
     "data": {
      "text/html": [
       "<div>\n",
       "<style scoped>\n",
       "    .dataframe tbody tr th:only-of-type {\n",
       "        vertical-align: middle;\n",
       "    }\n",
       "\n",
       "    .dataframe tbody tr th {\n",
       "        vertical-align: top;\n",
       "    }\n",
       "\n",
       "    .dataframe thead th {\n",
       "        text-align: right;\n",
       "    }\n",
       "</style>\n",
       "<table border=\"1\" class=\"dataframe\">\n",
       "  <thead>\n",
       "    <tr style=\"text-align: right;\">\n",
       "      <th></th>\n",
       "      <th>date</th>\n",
       "      <th>round</th>\n",
       "      <th>location</th>\n",
       "      <th>rank</th>\n",
       "      <th>dandivi</th>\n",
       "      <th>yeondivi</th>\n",
       "      <th>lane</th>\n",
       "    </tr>\n",
       "  </thead>\n",
       "  <tbody>\n",
       "    <tr>\n",
       "      <th>0</th>\n",
       "      <td>20170729</td>\n",
       "      <td>1</td>\n",
       "      <td>0</td>\n",
       "      <td>1</td>\n",
       "      <td>2.5</td>\n",
       "      <td>1.1</td>\n",
       "      <td>7</td>\n",
       "    </tr>\n",
       "    <tr>\n",
       "      <th>1</th>\n",
       "      <td>20170729</td>\n",
       "      <td>1</td>\n",
       "      <td>0</td>\n",
       "      <td>2</td>\n",
       "      <td>12.4</td>\n",
       "      <td>2.9</td>\n",
       "      <td>8</td>\n",
       "    </tr>\n",
       "    <tr>\n",
       "      <th>2</th>\n",
       "      <td>20170729</td>\n",
       "      <td>1</td>\n",
       "      <td>0</td>\n",
       "      <td>3</td>\n",
       "      <td>16.5</td>\n",
       "      <td>3.9</td>\n",
       "      <td>2</td>\n",
       "    </tr>\n",
       "    <tr>\n",
       "      <th>3</th>\n",
       "      <td>20170729</td>\n",
       "      <td>1</td>\n",
       "      <td>0</td>\n",
       "      <td>4</td>\n",
       "      <td>5.9</td>\n",
       "      <td>1.9</td>\n",
       "      <td>6</td>\n",
       "    </tr>\n",
       "    <tr>\n",
       "      <th>4</th>\n",
       "      <td>20170729</td>\n",
       "      <td>1</td>\n",
       "      <td>0</td>\n",
       "      <td>5</td>\n",
       "      <td>4.9</td>\n",
       "      <td>1.6</td>\n",
       "      <td>3</td>\n",
       "    </tr>\n",
       "    <tr>\n",
       "      <th>5</th>\n",
       "      <td>20170729</td>\n",
       "      <td>1</td>\n",
       "      <td>0</td>\n",
       "      <td>6</td>\n",
       "      <td>12.6</td>\n",
       "      <td>3.6</td>\n",
       "      <td>4</td>\n",
       "    </tr>\n",
       "    <tr>\n",
       "      <th>6</th>\n",
       "      <td>20170729</td>\n",
       "      <td>1</td>\n",
       "      <td>0</td>\n",
       "      <td>7</td>\n",
       "      <td>112.3</td>\n",
       "      <td>17.3</td>\n",
       "      <td>12</td>\n",
       "    </tr>\n",
       "    <tr>\n",
       "      <th>7</th>\n",
       "      <td>20170729</td>\n",
       "      <td>1</td>\n",
       "      <td>0</td>\n",
       "      <td>8</td>\n",
       "      <td>89.5</td>\n",
       "      <td>27.6</td>\n",
       "      <td>5</td>\n",
       "    </tr>\n",
       "    <tr>\n",
       "      <th>8</th>\n",
       "      <td>20170729</td>\n",
       "      <td>1</td>\n",
       "      <td>0</td>\n",
       "      <td>9</td>\n",
       "      <td>54.4</td>\n",
       "      <td>9.7</td>\n",
       "      <td>1</td>\n",
       "    </tr>\n",
       "    <tr>\n",
       "      <th>9</th>\n",
       "      <td>20170729</td>\n",
       "      <td>1</td>\n",
       "      <td>0</td>\n",
       "      <td>10</td>\n",
       "      <td>4.9</td>\n",
       "      <td>1.8</td>\n",
       "      <td>9</td>\n",
       "    </tr>\n",
       "    <tr>\n",
       "      <th>10</th>\n",
       "      <td>20170729</td>\n",
       "      <td>1</td>\n",
       "      <td>0</td>\n",
       "      <td>11</td>\n",
       "      <td>81.2</td>\n",
       "      <td>12.7</td>\n",
       "      <td>10</td>\n",
       "    </tr>\n",
       "    <tr>\n",
       "      <th>11</th>\n",
       "      <td>20170729</td>\n",
       "      <td>1</td>\n",
       "      <td>0</td>\n",
       "      <td>취</td>\n",
       "      <td>0.0</td>\n",
       "      <td>0.0</td>\n",
       "      <td>11</td>\n",
       "    </tr>\n",
       "  </tbody>\n",
       "</table>\n",
       "</div>"
      ],
      "text/plain": [
       "        date  round  location rank  dandivi  yeondivi  lane\n",
       "0   20170729      1         0    1      2.5       1.1     7\n",
       "1   20170729      1         0    2     12.4       2.9     8\n",
       "2   20170729      1         0    3     16.5       3.9     2\n",
       "3   20170729      1         0    4      5.9       1.9     6\n",
       "4   20170729      1         0    5      4.9       1.6     3\n",
       "5   20170729      1         0    6     12.6       3.6     4\n",
       "6   20170729      1         0    7    112.3      17.3    12\n",
       "7   20170729      1         0    8     89.5      27.6     5\n",
       "8   20170729      1         0    9     54.4       9.7     1\n",
       "9   20170729      1         0   10      4.9       1.8     9\n",
       "10  20170729      1         0   11     81.2      12.7    10\n",
       "11  20170729      1         0    취      0.0       0.0    11"
      ]
     },
     "execution_count": 4,
     "metadata": {},
     "output_type": "execute_result"
    }
   ],
   "source": [
    "gb_data = data.groupby(['date','round','location'])\n",
    "gb_data = [gb_data.get_group(x) for x in gb_data.groups]\n",
    "\n",
    "gb_data[0]"
   ]
  },
  {
   "cell_type": "code",
   "execution_count": 25,
   "metadata": {
    "scrolled": true
   },
   "outputs": [
    {
     "name": "stdout",
     "output_type": "stream",
     "text": [
      "번 돈:  21167000.0\n",
      "쓴 돈:  25370000\n"
     ]
    }
   ],
   "source": [
    "startmoney=10000000\n",
    "startlist=[]\n",
    "bettingmoney = 10000\n",
    "upmoney = 0\n",
    "for i in range(len(gb_data)):\n",
    "    top_rank = gb_data[i][gb_data[i]['rank'].rank()==1]\n",
    "    if len(top_rank)==0:\n",
    "        continue\n",
    "#    if int(top_rank.iloc[0]['rank']) == top_rank.iloc[0]['lane']:\n",
    "    if 1 == top_rank.iloc[0]['lane']:\n",
    "        upmoney = upmoney + bettingmoney * top_rank.iloc[0]['dandivi']\n",
    "        startmoney = startmoney + bettingmoney * top_rank.iloc[0]['dandivi']\n",
    "    startmoney = startmoney - bettingmoney\n",
    "    startlist.append(startmoney)\n",
    "    \n",
    "    if startmoney<0:\n",
    "        print(i, top_rank.iloc[0]['date'])\n",
    "        break\n",
    "        \n",
    "print('번 돈: ',upmoney)\n",
    "print('쓴 돈: ',bettingmoney * len(gb_data))\n",
    "\n"
   ]
  },
  {
   "cell_type": "code",
   "execution_count": 28,
   "metadata": {},
   "outputs": [
    {
     "data": {
      "image/png": "[encoded data removed]",
      "text/plain": [
       "<Figure size 432x288 with 1 Axes>"
      ]
     },
     "metadata": {},
     "output_type": "display_data"
    }
   ],
   "source": [
    "from matplotlib import pyplot as plt\n",
    "plt.plot(startlist)\n",
    "plt.show()"
   ]
  },
  {
   "cell_type": "code",
   "execution_count": null,
   "metadata": {},
   "outputs": [],
   "source": []
  }
 ],
 "metadata": {
  "kernelspec": {
   "display_name": "Python 3",
   "language": "python",
   "name": "python3"
  },
  "language_info": {
   "codemirror_mode": {
    "name": "ipython",
    "version": 3
   },
   "file_extension": ".py",
   "mimetype": "text/x-python",
   "name": "python",
   "nbconvert_exporter": "python",
   "pygments_lexer": "ipython3",
   "version": "3.6.5"
  }
 },
 "nbformat": 4,
 "nbformat_minor": 2
}
